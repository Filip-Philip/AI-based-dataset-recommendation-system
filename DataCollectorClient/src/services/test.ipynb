{
 "cells": [
  {
   "cell_type": "code",
   "execution_count": null,
   "metadata": {
    "collapsed": true
   },
   "outputs": [],
   "source": [
    "import pandas as pd\n",
    "\n",
    "from zenodo_parser import ZenodoParser\n",
    "\n",
    "parser = ZenodoParser()\n",
    "\n",
    "dat = parser.load(\"pickle_test_all2.pickle\").data.reset_index()\n",
    "\n",
    "dat[\"filetypes\"].loc[0]\n"
   ]
  },
  {
   "cell_type": "code",
   "execution_count": null,
   "outputs": [],
   "source": [
    "# i = dat[\"filetypes\"].loc[0]\n",
    "# i\n",
    "\n",
    "occurrence_count = dict()\n",
    "occurrence_ratio = dict()\n",
    "def count_occurrences(file_type_dict):\n",
    "    sum_of_all = sum(file_type_dict.values())\n",
    "\n",
    "    for key in file_type_dict:\n",
    "        count = occurrence_count.get(key, 0)\n",
    "        sum_of_all += file_type_dict[key]\n",
    "        count += file_type_dict[key]\n",
    "        occurrence_count[key] = count\n",
    "        ratio = occurrence_ratio.get(key, 0)\n",
    "        ratio += file_type_dict[key] / sum_of_all\n",
    "        occurrence_ratio[key] = ratio\n"
   ],
   "metadata": {
    "collapsed": false,
    "pycharm": {
     "name": "#%%\n"
    }
   }
  },
  {
   "cell_type": "code",
   "execution_count": null,
   "outputs": [],
   "source": [
    "t = dat[\"filetypes\"].apply(count_occurrences)"
   ],
   "metadata": {
    "collapsed": false,
    "pycharm": {
     "name": "#%%\n"
    }
   }
  },
  {
   "cell_type": "code",
   "execution_count": null,
   "outputs": [],
   "source": [
    "import pandas as pd\n",
    "sorted_occurrence_count = dict(sorted(list(occurrence_count.items()), key=lambda x: x[1], reverse=True))\n",
    "df = pd.DataFrame.from_records([sorted_occurrence_count, occurrence_ratio], index=[\"occurrence_count\", \"occurrence_ratio\"]).transpose()\n",
    "df"
   ],
   "metadata": {
    "collapsed": false,
    "pycharm": {
     "name": "#%%\n"
    }
   }
  },
  {
   "cell_type": "code",
   "execution_count": null,
   "outputs": [],
   "source": [
    "from seaborn import barplot, countplot\n",
    "import matplotlib.pyplot as plt\n",
    "from matplotlib.pyplot import figure\n",
    "\n",
    "figure(num=None, figsize=(50,200), dpi=256, facecolor='w', edgecolor='r')\n",
    "# plt.title(\"Missing Value Prerceentag\")\n",
    "barplot(data=df, x=\"occurrence_count\", y=df.index)\n",
    "plt.show()\n",
    "plt.savefig(\"plot.png\")\n",
    "# countplot(data=df[\"occurrence_count\"])"
   ],
   "metadata": {
    "collapsed": false,
    "pycharm": {
     "name": "#%%\n"
    }
   }
  }
 ],
 "metadata": {
  "kernelspec": {
   "display_name": "Python 3",
   "language": "python",
   "name": "python3"
  },
  "language_info": {
   "codemirror_mode": {
    "name": "ipython",
    "version": 2
   },
   "file_extension": ".py",
   "mimetype": "text/x-python",
   "name": "python",
   "nbconvert_exporter": "python",
   "pygments_lexer": "ipython2",
   "version": "2.7.6"
  }
 },
 "nbformat": 4,
 "nbformat_minor": 0
}