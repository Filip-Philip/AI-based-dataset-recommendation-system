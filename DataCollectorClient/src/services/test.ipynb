{
 "cells": [
  {
   "cell_type": "code",
   "execution_count": 4,
   "metadata": {
    "collapsed": true
   },
   "outputs": [],
   "source": [
    "import pandas as pd\n",
    "\n",
    "from zenodo_parser import ZenodoParser\n",
    "\n",
    "parser = ZenodoParser()\n",
    "\n",
    "dat = parser.load(\"pickle_test_all_with_files_sparse.pickle\").data\n",
    "\n",
    "# dat.files.unique()\n"
   ]
  },
  {
   "cell_type": "code",
   "execution_count": 11,
   "outputs": [
    {
     "data": {
      "text/plain": "{'bucket': 'c5c0b21e-f653-4411-a1e8-928af12b8b51',\n 'checksum': 'md5:49992a93f8b941e1e24aeed2287273c2',\n 'key': 'bulk_density_data.csv',\n 'links': {'self': 'https://zenodo.org/api/files/c5c0b21e-f653-4411-a1e8-928af12b8b51/bulk_density_data.csv'},\n 'size': 2603,\n 'type': 'csv'}"
     },
     "execution_count": 11,
     "metadata": {},
     "output_type": "execute_result"
    }
   ],
   "source": [
    "dat.loc[0][\"files\"].values[0][0]\n",
    "# pd.set_option('display.max_seq_items', None)"
   ],
   "metadata": {
    "collapsed": false,
    "pycharm": {
     "name": "#%%\n"
    }
   }
  },
  {
   "cell_type": "code",
   "execution_count": 56,
   "outputs": [
    {
     "data": {
      "text/plain": "0       [{'affiliation': 'Brown University', 'name': '...\n1       [{'affiliation': 'Imperial College London', 'n...\n2       [{'affiliation': 'Hokkaido University', 'name'...\n3       [{'affiliation': 'Imperial College London', 'n...\n4       [{'affiliation': 'California Academy of Scienc...\n                              ...                        \n2901    [{'affiliation': 'Centre for Isotope Research ...\n2902    [{'name': 'Raji, Shahab', 'orcid': '0000-0002-...\n2903    [{'affiliation': 'University of Lodz, Doctoral...\n2904    [{'affiliation': 'Department of Neurodegenerat...\n2905    [{'name': 'Pengyu Chu', 'orcid': '0000-0002-82...\nName: creators, Length: 183380, dtype: object"
     },
     "execution_count": 56,
     "metadata": {},
     "output_type": "execute_result"
    }
   ],
   "source": [
    "dat.creators"
   ],
   "metadata": {
    "collapsed": false,
    "pycharm": {
     "name": "#%%\n"
    }
   }
  },
  {
   "cell_type": "code",
   "execution_count": null,
   "outputs": [],
   "source": [
    "def to_sparse(x):\n",
    "    if x.isna().sum() / len(x) > 0.3:\n",
    "        return pd.arrays.SparseArray(x)\n",
    "    return x\n",
    "\n",
    "sparse_dat = dat.apply(to_sparse)"
   ],
   "metadata": {
    "collapsed": false,
    "pycharm": {
     "name": "#%%\n"
    }
   }
  },
  {
   "cell_type": "code",
   "execution_count": 48,
   "outputs": [
    {
     "name": "stdout",
     "output_type": "stream",
     "text": [
      "hal ted\n",
      "dense : 64992.73 bytes\n",
      "sparse: 40989.27 bytes\n",
      "index                                  int64\n",
      "conceptrecid                          object\n",
      "created                               object\n",
      "doi                                   object\n",
      "files                                 object\n",
      "id                                     int64\n",
      "links                                 object\n",
      "owners                                object\n",
      "revision                               int64\n",
      "stats                                 object\n",
      "updated                               object\n",
      "access_right                          object\n",
      "access_right_category                 object\n",
      "communities              Sparse[object, nan]\n",
      "creators                              object\n",
      "description                           object\n",
      "keywords                 Sparse[object, nan]\n",
      "license                               object\n",
      "locations                Sparse[object, nan]\n",
      "notes                    Sparse[object, nan]\n",
      "publication_date                      object\n",
      "related_identifiers                   object\n",
      "relations                             object\n",
      "resource_type                         object\n",
      "title                                 object\n",
      "filetypes                             object\n",
      "filepaths                             object\n",
      "download_time                 datetime64[ns]\n",
      "method                   Sparse[object, nan]\n",
      "conceptdoi               Sparse[object, nan]\n",
      "references               Sparse[object, nan]\n",
      "version                  Sparse[object, nan]\n",
      "language                 Sparse[object, nan]\n",
      "meeting                  Sparse[object, nan]\n",
      "journal                  Sparse[object, nan]\n",
      "grants                   Sparse[object, nan]\n",
      "contributors             Sparse[object, nan]\n",
      "embargo_date             Sparse[object, nan]\n",
      "subjects                 Sparse[object, nan]\n",
      "access_conditions        Sparse[object, nan]\n",
      "thesis                   Sparse[object, nan]\n",
      "imprint                  Sparse[object, nan]\n",
      "part_of                  Sparse[object, nan]\n",
      "alternate_identifiers    Sparse[object, nan]\n",
      "dates                    Sparse[object, nan]\n",
      "dtype: object\n",
      "index                         0\n",
      "conceptrecid                  0\n",
      "created                       0\n",
      "doi                           2\n",
      "files                      9725\n",
      "id                            0\n",
      "links                         0\n",
      "owners                        1\n",
      "revision                      0\n",
      "stats                         0\n",
      "updated                       0\n",
      "access_right                  0\n",
      "access_right_category         0\n",
      "communities               78883\n",
      "creators                      0\n",
      "description                   0\n",
      "keywords                  73119\n",
      "license                    9381\n",
      "locations                165972\n",
      "notes                    122359\n",
      "publication_date              0\n",
      "related_identifiers       20252\n",
      "relations                     0\n",
      "resource_type                 0\n",
      "title                         0\n",
      "filetypes                     0\n",
      "filepaths                     0\n",
      "download_time                 0\n",
      "method                   166801\n",
      "conceptdoi                62691\n",
      "references               173252\n",
      "version                  149660\n",
      "language                 148155\n",
      "meeting                  178908\n",
      "journal                  174453\n",
      "grants                   165362\n",
      "contributors             171804\n",
      "embargo_date             178942\n",
      "subjects                 178672\n",
      "access_conditions        174297\n",
      "thesis                   179424\n",
      "imprint                  180304\n",
      "part_of                  180292\n",
      "alternate_identifiers    180355\n",
      "dates                    180328\n",
      "dtype: int64\n"
     ]
    }
   ],
   "source": [
    "print(\"halted\"[:3], \"halted\"[3:])\n",
    "\n",
    "print('dense : {:0.2f} bytes'.format(dat.memory_usage().sum() / 1e3))\n",
    "\n",
    "print('sparse: {:0.2f} bytes'.format(sparse_dat.memory_usage().sum() / 1e3))\n",
    "\n",
    "print(sparse_dat.dtypes)\n",
    "print(dat.isna().sum())"
   ],
   "metadata": {
    "collapsed": false,
    "pycharm": {
     "name": "#%%\n"
    }
   }
  },
  {
   "cell_type": "code",
   "execution_count": 27,
   "outputs": [
    {
     "ename": "AttributeError",
     "evalue": "Can only use the '.sparse' accessor with Sparse data.",
     "output_type": "error",
     "traceback": [
      "\u001B[1;31m---------------------------------------------------------------------------\u001B[0m",
      "\u001B[1;31mAttributeError\u001B[0m                            Traceback (most recent call last)",
      "Cell \u001B[1;32mIn[27], line 7\u001B[0m\n\u001B[0;32m      3\u001B[0m dtype \u001B[38;5;241m=\u001B[39m pd\u001B[38;5;241m.\u001B[39mSparseDtype(\u001B[38;5;28mobject\u001B[39m, fill_value\u001B[38;5;241m=\u001B[39mnp\u001B[38;5;241m.\u001B[39mnan)\n\u001B[0;32m      5\u001B[0m \u001B[38;5;66;03m# sparse_dates = dat.dates.astype(dtype)\u001B[39;00m\n\u001B[0;32m      6\u001B[0m \u001B[38;5;66;03m# sparse_dates.sparse.density\u001B[39;00m\n\u001B[1;32m----> 7\u001B[0m sparse_all \u001B[38;5;241m=\u001B[39m \u001B[43mdat\u001B[49m\u001B[38;5;241;43m.\u001B[39;49m\u001B[43msparse\u001B[49m\n\u001B[0;32m      8\u001B[0m \u001B[38;5;66;03m# sparse_all.sparse.density\u001B[39;00m\n",
      "File \u001B[1;32mc:\\users\\filip\\documents\\projekciki\\ai-based-dataset-recommendation-system\\lib\\site-packages\\pandas\\core\\generic.py:5902\u001B[0m, in \u001B[0;36mNDFrame.__getattr__\u001B[1;34m(self, name)\u001B[0m\n\u001B[0;32m   5895\u001B[0m \u001B[38;5;28;01mif\u001B[39;00m (\n\u001B[0;32m   5896\u001B[0m     name \u001B[38;5;129;01mnot\u001B[39;00m \u001B[38;5;129;01min\u001B[39;00m \u001B[38;5;28mself\u001B[39m\u001B[38;5;241m.\u001B[39m_internal_names_set\n\u001B[0;32m   5897\u001B[0m     \u001B[38;5;129;01mand\u001B[39;00m name \u001B[38;5;129;01mnot\u001B[39;00m \u001B[38;5;129;01min\u001B[39;00m \u001B[38;5;28mself\u001B[39m\u001B[38;5;241m.\u001B[39m_metadata\n\u001B[0;32m   5898\u001B[0m     \u001B[38;5;129;01mand\u001B[39;00m name \u001B[38;5;129;01mnot\u001B[39;00m \u001B[38;5;129;01min\u001B[39;00m \u001B[38;5;28mself\u001B[39m\u001B[38;5;241m.\u001B[39m_accessors\n\u001B[0;32m   5899\u001B[0m     \u001B[38;5;129;01mand\u001B[39;00m \u001B[38;5;28mself\u001B[39m\u001B[38;5;241m.\u001B[39m_info_axis\u001B[38;5;241m.\u001B[39m_can_hold_identifiers_and_holds_name(name)\n\u001B[0;32m   5900\u001B[0m ):\n\u001B[0;32m   5901\u001B[0m     \u001B[38;5;28;01mreturn\u001B[39;00m \u001B[38;5;28mself\u001B[39m[name]\n\u001B[1;32m-> 5902\u001B[0m \u001B[38;5;28;01mreturn\u001B[39;00m \u001B[38;5;28;43mobject\u001B[39;49m\u001B[38;5;241;43m.\u001B[39;49m\u001B[38;5;21;43m__getattribute__\u001B[39;49m\u001B[43m(\u001B[49m\u001B[38;5;28;43mself\u001B[39;49m\u001B[43m,\u001B[49m\u001B[43m \u001B[49m\u001B[43mname\u001B[49m\u001B[43m)\u001B[49m\n",
      "File \u001B[1;32mc:\\users\\filip\\documents\\projekciki\\ai-based-dataset-recommendation-system\\lib\\site-packages\\pandas\\core\\accessor.py:182\u001B[0m, in \u001B[0;36mCachedAccessor.__get__\u001B[1;34m(self, obj, cls)\u001B[0m\n\u001B[0;32m    179\u001B[0m \u001B[38;5;28;01mif\u001B[39;00m obj \u001B[38;5;129;01mis\u001B[39;00m \u001B[38;5;28;01mNone\u001B[39;00m:\n\u001B[0;32m    180\u001B[0m     \u001B[38;5;66;03m# we're accessing the attribute of the class, i.e., Dataset.geo\u001B[39;00m\n\u001B[0;32m    181\u001B[0m     \u001B[38;5;28;01mreturn\u001B[39;00m \u001B[38;5;28mself\u001B[39m\u001B[38;5;241m.\u001B[39m_accessor\n\u001B[1;32m--> 182\u001B[0m accessor_obj \u001B[38;5;241m=\u001B[39m \u001B[38;5;28;43mself\u001B[39;49m\u001B[38;5;241;43m.\u001B[39;49m\u001B[43m_accessor\u001B[49m\u001B[43m(\u001B[49m\u001B[43mobj\u001B[49m\u001B[43m)\u001B[49m\n\u001B[0;32m    183\u001B[0m \u001B[38;5;66;03m# Replace the property with the accessor object. Inspired by:\u001B[39;00m\n\u001B[0;32m    184\u001B[0m \u001B[38;5;66;03m# https://www.pydanny.com/cached-property.html\u001B[39;00m\n\u001B[0;32m    185\u001B[0m \u001B[38;5;66;03m# We need to use object.__setattr__ because we overwrite __setattr__ on\u001B[39;00m\n\u001B[0;32m    186\u001B[0m \u001B[38;5;66;03m# NDFrame\u001B[39;00m\n\u001B[0;32m    187\u001B[0m \u001B[38;5;28mobject\u001B[39m\u001B[38;5;241m.\u001B[39m\u001B[38;5;21m__setattr__\u001B[39m(obj, \u001B[38;5;28mself\u001B[39m\u001B[38;5;241m.\u001B[39m_name, accessor_obj)\n",
      "File \u001B[1;32mc:\\users\\filip\\documents\\projekciki\\ai-based-dataset-recommendation-system\\lib\\site-packages\\pandas\\core\\arrays\\sparse\\accessor.py:31\u001B[0m, in \u001B[0;36mBaseAccessor.__init__\u001B[1;34m(self, data)\u001B[0m\n\u001B[0;32m     29\u001B[0m \u001B[38;5;28;01mdef\u001B[39;00m \u001B[38;5;21m__init__\u001B[39m(\u001B[38;5;28mself\u001B[39m, data\u001B[38;5;241m=\u001B[39m\u001B[38;5;28;01mNone\u001B[39;00m) \u001B[38;5;241m-\u001B[39m\u001B[38;5;241m>\u001B[39m \u001B[38;5;28;01mNone\u001B[39;00m:\n\u001B[0;32m     30\u001B[0m     \u001B[38;5;28mself\u001B[39m\u001B[38;5;241m.\u001B[39m_parent \u001B[38;5;241m=\u001B[39m data\n\u001B[1;32m---> 31\u001B[0m     \u001B[38;5;28;43mself\u001B[39;49m\u001B[38;5;241;43m.\u001B[39;49m\u001B[43m_validate\u001B[49m\u001B[43m(\u001B[49m\u001B[43mdata\u001B[49m\u001B[43m)\u001B[49m\n",
      "File \u001B[1;32mc:\\users\\filip\\documents\\projekciki\\ai-based-dataset-recommendation-system\\lib\\site-packages\\pandas\\core\\arrays\\sparse\\accessor.py:237\u001B[0m, in \u001B[0;36mSparseFrameAccessor._validate\u001B[1;34m(self, data)\u001B[0m\n\u001B[0;32m    235\u001B[0m dtypes \u001B[38;5;241m=\u001B[39m data\u001B[38;5;241m.\u001B[39mdtypes\n\u001B[0;32m    236\u001B[0m \u001B[38;5;28;01mif\u001B[39;00m \u001B[38;5;129;01mnot\u001B[39;00m \u001B[38;5;28mall\u001B[39m(\u001B[38;5;28misinstance\u001B[39m(t, SparseDtype) \u001B[38;5;28;01mfor\u001B[39;00m t \u001B[38;5;129;01min\u001B[39;00m dtypes):\n\u001B[1;32m--> 237\u001B[0m     \u001B[38;5;28;01mraise\u001B[39;00m \u001B[38;5;167;01mAttributeError\u001B[39;00m(\u001B[38;5;28mself\u001B[39m\u001B[38;5;241m.\u001B[39m_validation_msg)\n",
      "\u001B[1;31mAttributeError\u001B[0m: Can only use the '.sparse' accessor with Sparse data."
     ]
    }
   ],
   "source": [
    "import numpy as np\n",
    "# print(dat.dates)\n",
    "dtype = pd.SparseDtype(object, fill_value=np.nan)\n",
    "\n",
    "# sparse_dates = dat.dates.astype(dtype)\n",
    "# sparse_dates.sparse.density\n",
    "sparse_all = dat.sparse\n",
    "# sparse_all.sparse.density"
   ],
   "metadata": {
    "collapsed": false,
    "pycharm": {
     "name": "#%%\n"
    }
   }
  },
  {
   "cell_type": "code",
   "execution_count": 24,
   "outputs": [],
   "source": [
    "# i = dat[\"filetypes\"].loc[0]\n",
    "# i\n",
    "\n",
    "occurrence_count = dict()\n",
    "occurrence_ratio = dict()\n",
    "def count_occurrences(file_type_dict):\n",
    "    sum_of_all = sum(file_type_dict.values())\n",
    "\n",
    "    for key in file_type_dict:\n",
    "        count = occurrence_count.get(key, 0)\n",
    "        sum_of_all += file_type_dict[key]\n",
    "        count += file_type_dict[key]\n",
    "        occurrence_count[key] = count\n",
    "        ratio = occurrence_ratio.get(key, 0)\n",
    "        ratio += file_type_dict[key] / sum_of_all\n",
    "        occurrence_ratio[key] = ratio\n",
    "\n"
   ],
   "metadata": {
    "collapsed": false,
    "pycharm": {
     "name": "#%%\n"
    }
   }
  },
  {
   "cell_type": "code",
   "execution_count": 9,
   "outputs": [],
   "source": [
    "occurrence_count.values()\n",
    "\n",
    "t = dat[\"filetypes\"].apply(count_occurrences)"
   ],
   "metadata": {
    "collapsed": false,
    "pycharm": {
     "name": "#%%\n"
    }
   }
  },
  {
   "cell_type": "code",
   "execution_count": null,
   "outputs": [],
   "source": [
    "\n",
    "def modify_frame(filetype_dict):\n",
    "    for filetype, count in filetype_dict:\n",
    "        filetypes.add(filetype)\n",
    "        count = files_data.get(f\"{filetype}_{COUNT}\", 0)\n",
    "        sizes = files_data.get(f\"{filetype}_{SIZES}\", [])\n",
    "        paths = files_data.get(f\"{filetype}_{PATHS}\", [])\n",
    "        count += 1\n",
    "        sizes.append(file.get(\"size\", 0))\n",
    "        paths.append(file.get(\"links\", dict()).get(\"self\", \"\"))\n",
    "        files_data[f\"{filetype}_{COUNT}\"] = int(count)\n",
    "        files_data[f\"{filetype}_{SIZES}\"] = sizes\n",
    "        files_data[f\"{filetype}_{PATHS}\"] = paths"
   ],
   "metadata": {
    "collapsed": false,
    "pycharm": {
     "name": "#%%\n"
    }
   }
  },
  {
   "cell_type": "code",
   "execution_count": 10,
   "outputs": [
    {
     "data": {
      "text/plain": "          occurrence_count  occurrence_ratio\nnc                626120.0       1284.265233\nzip               142118.0      19198.428240\ncsv               129064.0       9593.060618\ntxt               123919.0       6235.630595\ngz                121560.0       5967.594015\n...                    ...               ...\npart-aj                1.0          0.021739\npart-ak                1.0          0.021277\npart-al                1.0          0.020833\ntopojson               1.0          0.025641\ndae                    1.0          0.029412\n\n[8222 rows x 2 columns]",
      "text/html": "<div>\n<style scoped>\n    .dataframe tbody tr th:only-of-type {\n        vertical-align: middle;\n    }\n\n    .dataframe tbody tr th {\n        vertical-align: top;\n    }\n\n    .dataframe thead th {\n        text-align: right;\n    }\n</style>\n<table border=\"1\" class=\"dataframe\">\n  <thead>\n    <tr style=\"text-align: right;\">\n      <th></th>\n      <th>occurrence_count</th>\n      <th>occurrence_ratio</th>\n    </tr>\n  </thead>\n  <tbody>\n    <tr>\n      <th>nc</th>\n      <td>626120.0</td>\n      <td>1284.265233</td>\n    </tr>\n    <tr>\n      <th>zip</th>\n      <td>142118.0</td>\n      <td>19198.428240</td>\n    </tr>\n    <tr>\n      <th>csv</th>\n      <td>129064.0</td>\n      <td>9593.060618</td>\n    </tr>\n    <tr>\n      <th>txt</th>\n      <td>123919.0</td>\n      <td>6235.630595</td>\n    </tr>\n    <tr>\n      <th>gz</th>\n      <td>121560.0</td>\n      <td>5967.594015</td>\n    </tr>\n    <tr>\n      <th>...</th>\n      <td>...</td>\n      <td>...</td>\n    </tr>\n    <tr>\n      <th>part-aj</th>\n      <td>1.0</td>\n      <td>0.021739</td>\n    </tr>\n    <tr>\n      <th>part-ak</th>\n      <td>1.0</td>\n      <td>0.021277</td>\n    </tr>\n    <tr>\n      <th>part-al</th>\n      <td>1.0</td>\n      <td>0.020833</td>\n    </tr>\n    <tr>\n      <th>topojson</th>\n      <td>1.0</td>\n      <td>0.025641</td>\n    </tr>\n    <tr>\n      <th>dae</th>\n      <td>1.0</td>\n      <td>0.029412</td>\n    </tr>\n  </tbody>\n</table>\n<p>8222 rows × 2 columns</p>\n</div>"
     },
     "execution_count": 10,
     "metadata": {},
     "output_type": "execute_result"
    }
   ],
   "source": [
    "import pandas as pd\n",
    "sorted_occurrence_count = dict(sorted(list(occurrence_count.items()), key=lambda x: x[1], reverse=True))\n",
    "df = pd.DataFrame.from_records([sorted_occurrence_count, occurrence_ratio], index=[\"occurrence_count\", \"occurrence_ratio\"]).transpose()\n",
    "df\n",
    "# occurrence_count"
   ],
   "metadata": {
    "collapsed": false,
    "pycharm": {
     "name": "#%%\n"
    }
   }
  },
  {
   "cell_type": "code",
   "execution_count": 11,
   "outputs": [
    {
     "name": "stdout",
     "output_type": "stream",
     "text": [
      "{'nc': 626120, 'zip': 142118, 'csv': 129064, 'txt': 123919, 'gz': 121560, 'tif': 108176, 'jpg': 97442, 'h5': 68754, 'png': 66940, 'xlsx': 62820, 'mat': 51209, 'rar': 48147, 'bz2': 35370, 'pdf': 31599, 'hdf5': 30088, 'wav': 25075, 'dat': 19379, 'cbf': 19321, 'hdf': 17888, 'json': 17296, '': 16959, 'raw': 14423, 'xz': 12658, 'docx': 12059, 'fasta': 11532, 'czi': 9120, 'out': 8762, 'geojson': 8402, 'r': 8379, 'asc': 8320, 'xml': 8279, 'tiff': 8264, 'xls': 8228, 'img': 7486, 'hdr': 7219, 'dcm': 6921, 'fits': 6359, 'npz': 6050, 'tsv': 6014, 'mp4': 5982, 'npy': 4949, 'tgz': 4946, 'tar': 4916, 'md': 4591, 'rds': 4584, 'pkl': 4479, 'cfit': 4415, 'ttl116447': 4399, 'cdf': 4304, 'mzml': 4277, '7z': 4239, 'pdb': 3979, 'fcs': 3881, 'm': 3810, 'dill': 3779, 'nex': 3693, 'html': 3395, 'sav': 3342, 'bam': 3166, 'xtc': 2943, 'dng': 2941, 'py': 2909, 'rdata': 2884, 'fas': 2837, 'mccd': 2789, 'org': 2776, 'he5': 2709, 'spe': 2705, 'tpr': 2580, 'tre': 2575, 'fastq': 2491, 'vcf': 2484, 'odt': 2354, 'ply': 2329, 'data': 2284, '0parameters': 2220, 'gro': 2173, 'fa': 2172, 'avi': 2090, 'dbf': 2059, 'parquet': 2043, 'log': 2035, 'perl': 2022, 'rtf': 1987, 'nc4': 1959, 'sac': 1923, 'vtk': 1896, 'shp': 1883, 'shx': 1839, 'bin': 1819, 'meta': 1789, 'prj': 1785, 'csi': 1668, '5parameters': 1642, 'bmp': 1617, 'para': 1585, 'mag': 1517, 'ab1': 1514, 'edr': 1445, 'rda': 1430, 'htm': 1349, 'doc': 1314, 'cpt': 1302, 'chn': 1292, 'hd5': 1268, 'ipynb': 1245, 'xyz': 1206, 'dm3': 1201, 'phy': 1196, 'nd2': 1174, 'sur': 1072, 'cpg': 1068, 'fq': 1046, 'spc': 1013, 'set': 1008, 'asdf': 1004, 'exif': 999, 'top': 987, 'grm': 985, 'root': 972, 'itp': 972, 'mnt': 958, 'xlsm': 945, 'ods': 919, 'mnc': 898, 'obj': 865, 'lmd': 864, 'fst': 863, 'xsd': 862, 'abf': 861, 'rmd': 845, 'roi': 828, 'jpeg': 827, 'pzfx': 805, 'mpg': 801, 'pickle': 799, 'fna': 796, 'fig': 793, 'inp': 792, 'ttl': 790, 'bag': 771, 'bed': 769, 'rdf': 765, 'tfw': 762, 'nxs': 735, 'pp': 717, 'trj': 709, 'gff': 706, 'lsm': 704, 'rs3': 697, 'z': 692, 'fit': 684, 'sh': 674, 'gff3': 669, 'mdp': 669, 'ndx': 657, 'dm4': 644, 'stl': 643, 'seq': 625, 'hys': 601}\n"
     ]
    },
    {
     "data": {
      "text/plain": "0.9579507956811609"
     },
     "execution_count": 11,
     "metadata": {},
     "output_type": "execute_result"
    }
   ],
   "source": [
    "total_occurrence_count = sum(occurrence_count.values())\n",
    "top160_filetypes = dict(sorted(list(occurrence_count.items()), key=lambda x: x[1], reverse=True)[:160])\n",
    "print(top160_filetypes)\n",
    "top160_occurrence_count = sum(top160_filetypes.values())\n",
    "top160_occurrence_captured = top160_occurrence_count / total_occurrence_count\n",
    "print(top160_occurrence_captured)\n",
    "\n",
    "rest_filetypes = dict(sorted(list(occurrence_count.items()), key=lambda x: x[1], reverse=True)[160:])\n",
    "print(rest_filetypes)\n",
    "rest_occurrence_count = sum(rest_filetypes.values())\n",
    "rest_occurrence_captured = rest_occurrence_count / total_occurrence_count\n",
    "rest_occurrence_captured"
   ],
   "metadata": {
    "collapsed": false,
    "pycharm": {
     "name": "#%%\n"
    }
   }
  },
  {
   "cell_type": "code",
   "execution_count": 7,
   "outputs": [
    {
     "ename": "KeyboardInterrupt",
     "evalue": "",
     "output_type": "error",
     "traceback": [
      "\u001B[1;31m---------------------------------------------------------------------------\u001B[0m",
      "\u001B[1;31mKeyboardInterrupt\u001B[0m                         Traceback (most recent call last)",
      "Cell \u001B[1;32mIn[7], line 7\u001B[0m\n\u001B[0;32m      5\u001B[0m figure(num\u001B[38;5;241m=\u001B[39m\u001B[38;5;28;01mNone\u001B[39;00m, figsize\u001B[38;5;241m=\u001B[39m(\u001B[38;5;241m50\u001B[39m,\u001B[38;5;241m200\u001B[39m), dpi\u001B[38;5;241m=\u001B[39m\u001B[38;5;241m256\u001B[39m, facecolor\u001B[38;5;241m=\u001B[39m\u001B[38;5;124m'\u001B[39m\u001B[38;5;124mw\u001B[39m\u001B[38;5;124m'\u001B[39m, edgecolor\u001B[38;5;241m=\u001B[39m\u001B[38;5;124m'\u001B[39m\u001B[38;5;124mr\u001B[39m\u001B[38;5;124m'\u001B[39m)\n\u001B[0;32m      6\u001B[0m \u001B[38;5;66;03m# plt.title(\"Missing Value Prerceentag\")\u001B[39;00m\n\u001B[1;32m----> 7\u001B[0m \u001B[43mbarplot\u001B[49m\u001B[43m(\u001B[49m\u001B[43mdata\u001B[49m\u001B[38;5;241;43m=\u001B[39;49m\u001B[43mdf\u001B[49m\u001B[43m,\u001B[49m\u001B[43m \u001B[49m\u001B[43mx\u001B[49m\u001B[38;5;241;43m=\u001B[39;49m\u001B[38;5;124;43m\"\u001B[39;49m\u001B[38;5;124;43moccurrence_count\u001B[39;49m\u001B[38;5;124;43m\"\u001B[39;49m\u001B[43m,\u001B[49m\u001B[43m \u001B[49m\u001B[43my\u001B[49m\u001B[38;5;241;43m=\u001B[39;49m\u001B[43mdf\u001B[49m\u001B[38;5;241;43m.\u001B[39;49m\u001B[43mindex\u001B[49m\u001B[43m)\u001B[49m\n\u001B[0;32m      8\u001B[0m plt\u001B[38;5;241m.\u001B[39mshow()\n\u001B[0;32m      9\u001B[0m plt\u001B[38;5;241m.\u001B[39msavefig(\u001B[38;5;124m\"\u001B[39m\u001B[38;5;124mplot.png\u001B[39m\u001B[38;5;124m\"\u001B[39m)\n",
      "File \u001B[1;32mc:\\users\\filip\\documents\\projekciki\\ai-based-dataset-recommendation-system\\lib\\site-packages\\seaborn\\categorical.py:2763\u001B[0m, in \u001B[0;36mbarplot\u001B[1;34m(data, x, y, hue, order, hue_order, estimator, errorbar, n_boot, units, seed, orient, color, palette, saturation, width, errcolor, errwidth, capsize, dodge, ci, ax, **kwargs)\u001B[0m\n\u001B[0;32m   2760\u001B[0m \u001B[38;5;28;01mif\u001B[39;00m ax \u001B[38;5;129;01mis\u001B[39;00m \u001B[38;5;28;01mNone\u001B[39;00m:\n\u001B[0;32m   2761\u001B[0m     ax \u001B[38;5;241m=\u001B[39m plt\u001B[38;5;241m.\u001B[39mgca()\n\u001B[1;32m-> 2763\u001B[0m \u001B[43mplotter\u001B[49m\u001B[38;5;241;43m.\u001B[39;49m\u001B[43mplot\u001B[49m\u001B[43m(\u001B[49m\u001B[43max\u001B[49m\u001B[43m,\u001B[49m\u001B[43m \u001B[49m\u001B[43mkwargs\u001B[49m\u001B[43m)\u001B[49m\n\u001B[0;32m   2764\u001B[0m \u001B[38;5;28;01mreturn\u001B[39;00m ax\n",
      "File \u001B[1;32mc:\\users\\filip\\documents\\projekciki\\ai-based-dataset-recommendation-system\\lib\\site-packages\\seaborn\\categorical.py:1587\u001B[0m, in \u001B[0;36m_BarPlotter.plot\u001B[1;34m(self, ax, bar_kws)\u001B[0m\n\u001B[0;32m   1585\u001B[0m \u001B[38;5;250m\u001B[39m\u001B[38;5;124;03m\"\"\"Make the plot.\"\"\"\u001B[39;00m\n\u001B[0;32m   1586\u001B[0m \u001B[38;5;28mself\u001B[39m\u001B[38;5;241m.\u001B[39mdraw_bars(ax, bar_kws)\n\u001B[1;32m-> 1587\u001B[0m \u001B[38;5;28;43mself\u001B[39;49m\u001B[38;5;241;43m.\u001B[39;49m\u001B[43mannotate_axes\u001B[49m\u001B[43m(\u001B[49m\u001B[43max\u001B[49m\u001B[43m)\u001B[49m\n\u001B[0;32m   1588\u001B[0m \u001B[38;5;28;01mif\u001B[39;00m \u001B[38;5;28mself\u001B[39m\u001B[38;5;241m.\u001B[39morient \u001B[38;5;241m==\u001B[39m \u001B[38;5;124m\"\u001B[39m\u001B[38;5;124mh\u001B[39m\u001B[38;5;124m\"\u001B[39m:\n\u001B[0;32m   1589\u001B[0m     ax\u001B[38;5;241m.\u001B[39minvert_yaxis()\n",
      "File \u001B[1;32mc:\\users\\filip\\documents\\projekciki\\ai-based-dataset-recommendation-system\\lib\\site-packages\\seaborn\\categorical.py:756\u001B[0m, in \u001B[0;36m_CategoricalPlotter.annotate_axes\u001B[1;34m(self, ax)\u001B[0m\n\u001B[0;32m    754\u001B[0m     ax\u001B[38;5;241m.\u001B[39mset_xticklabels(group_names)\n\u001B[0;32m    755\u001B[0m \u001B[38;5;28;01melse\u001B[39;00m:\n\u001B[1;32m--> 756\u001B[0m     \u001B[43max\u001B[49m\u001B[38;5;241;43m.\u001B[39;49m\u001B[43mset_yticks\u001B[49m\u001B[43m(\u001B[49m\u001B[43mnp\u001B[49m\u001B[38;5;241;43m.\u001B[39;49m\u001B[43marange\u001B[49m\u001B[43m(\u001B[49m\u001B[38;5;28;43mlen\u001B[39;49m\u001B[43m(\u001B[49m\u001B[38;5;28;43mself\u001B[39;49m\u001B[38;5;241;43m.\u001B[39;49m\u001B[43mplot_data\u001B[49m\u001B[43m)\u001B[49m\u001B[43m)\u001B[49m\u001B[43m)\u001B[49m\n\u001B[0;32m    757\u001B[0m     ax\u001B[38;5;241m.\u001B[39mset_yticklabels(group_names)\n\u001B[0;32m    759\u001B[0m \u001B[38;5;28;01mif\u001B[39;00m \u001B[38;5;28mself\u001B[39m\u001B[38;5;241m.\u001B[39morient \u001B[38;5;241m==\u001B[39m \u001B[38;5;124m\"\u001B[39m\u001B[38;5;124mv\u001B[39m\u001B[38;5;124m\"\u001B[39m:\n",
      "File \u001B[1;32mc:\\users\\filip\\documents\\projekciki\\ai-based-dataset-recommendation-system\\lib\\site-packages\\matplotlib\\axes\\_base.py:74\u001B[0m, in \u001B[0;36m_axis_method_wrapper.__set_name__.<locals>.wrapper\u001B[1;34m(self, *args, **kwargs)\u001B[0m\n\u001B[0;32m     73\u001B[0m \u001B[38;5;28;01mdef\u001B[39;00m \u001B[38;5;21mwrapper\u001B[39m(\u001B[38;5;28mself\u001B[39m, \u001B[38;5;241m*\u001B[39margs, \u001B[38;5;241m*\u001B[39m\u001B[38;5;241m*\u001B[39mkwargs):\n\u001B[1;32m---> 74\u001B[0m     \u001B[38;5;28;01mreturn\u001B[39;00m get_method(\u001B[38;5;28mself\u001B[39m)(\u001B[38;5;241m*\u001B[39margs, \u001B[38;5;241m*\u001B[39m\u001B[38;5;241m*\u001B[39mkwargs)\n",
      "File \u001B[1;32mc:\\users\\filip\\documents\\projekciki\\ai-based-dataset-recommendation-system\\lib\\site-packages\\matplotlib\\axis.py:2074\u001B[0m, in \u001B[0;36mAxis.set_ticks\u001B[1;34m(self, ticks, labels, minor, **kwargs)\u001B[0m\n\u001B[0;32m   2071\u001B[0m \u001B[38;5;28;01mif\u001B[39;00m labels \u001B[38;5;129;01mis\u001B[39;00m \u001B[38;5;28;01mNone\u001B[39;00m \u001B[38;5;129;01mand\u001B[39;00m kwargs:\n\u001B[0;32m   2072\u001B[0m     \u001B[38;5;28;01mraise\u001B[39;00m \u001B[38;5;167;01mValueError\u001B[39;00m(\u001B[38;5;124m'\u001B[39m\u001B[38;5;124mlabels argument cannot be None when \u001B[39m\u001B[38;5;124m'\u001B[39m\n\u001B[0;32m   2073\u001B[0m                      \u001B[38;5;124m'\u001B[39m\u001B[38;5;124mkwargs are passed\u001B[39m\u001B[38;5;124m'\u001B[39m)\n\u001B[1;32m-> 2074\u001B[0m result \u001B[38;5;241m=\u001B[39m \u001B[38;5;28;43mself\u001B[39;49m\u001B[38;5;241;43m.\u001B[39;49m\u001B[43m_set_tick_locations\u001B[49m\u001B[43m(\u001B[49m\u001B[43mticks\u001B[49m\u001B[43m,\u001B[49m\u001B[43m \u001B[49m\u001B[43mminor\u001B[49m\u001B[38;5;241;43m=\u001B[39;49m\u001B[43mminor\u001B[49m\u001B[43m)\u001B[49m\n\u001B[0;32m   2075\u001B[0m \u001B[38;5;28;01mif\u001B[39;00m labels \u001B[38;5;129;01mis\u001B[39;00m \u001B[38;5;129;01mnot\u001B[39;00m \u001B[38;5;28;01mNone\u001B[39;00m:\n\u001B[0;32m   2076\u001B[0m     \u001B[38;5;28mself\u001B[39m\u001B[38;5;241m.\u001B[39mset_ticklabels(labels, minor\u001B[38;5;241m=\u001B[39mminor, \u001B[38;5;241m*\u001B[39m\u001B[38;5;241m*\u001B[39mkwargs)\n",
      "File \u001B[1;32mc:\\users\\filip\\documents\\projekciki\\ai-based-dataset-recommendation-system\\lib\\site-packages\\matplotlib\\axis.py:2035\u001B[0m, in \u001B[0;36mAxis._set_tick_locations\u001B[1;34m(self, ticks, minor)\u001B[0m\n\u001B[0;32m   2033\u001B[0m \u001B[38;5;28;01melse\u001B[39;00m:\n\u001B[0;32m   2034\u001B[0m     \u001B[38;5;28mself\u001B[39m\u001B[38;5;241m.\u001B[39mset_major_locator(locator)\n\u001B[1;32m-> 2035\u001B[0m     \u001B[38;5;28;01mreturn\u001B[39;00m \u001B[38;5;28;43mself\u001B[39;49m\u001B[38;5;241;43m.\u001B[39;49m\u001B[43mget_major_ticks\u001B[49m\u001B[43m(\u001B[49m\u001B[38;5;28;43mlen\u001B[39;49m\u001B[43m(\u001B[49m\u001B[43mticks\u001B[49m\u001B[43m)\u001B[49m\u001B[43m)\u001B[49m\n",
      "File \u001B[1;32mc:\\users\\filip\\documents\\projekciki\\ai-based-dataset-recommendation-system\\lib\\site-packages\\matplotlib\\axis.py:1602\u001B[0m, in \u001B[0;36mAxis.get_major_ticks\u001B[1;34m(self, numticks)\u001B[0m\n\u001B[0;32m   1598\u001B[0m     numticks \u001B[38;5;241m=\u001B[39m \u001B[38;5;28mlen\u001B[39m(\u001B[38;5;28mself\u001B[39m\u001B[38;5;241m.\u001B[39mget_majorticklocs())\n\u001B[0;32m   1600\u001B[0m \u001B[38;5;28;01mwhile\u001B[39;00m \u001B[38;5;28mlen\u001B[39m(\u001B[38;5;28mself\u001B[39m\u001B[38;5;241m.\u001B[39mmajorTicks) \u001B[38;5;241m<\u001B[39m numticks:\n\u001B[0;32m   1601\u001B[0m     \u001B[38;5;66;03m# Update the new tick label properties from the old.\u001B[39;00m\n\u001B[1;32m-> 1602\u001B[0m     tick \u001B[38;5;241m=\u001B[39m \u001B[38;5;28;43mself\u001B[39;49m\u001B[38;5;241;43m.\u001B[39;49m\u001B[43m_get_tick\u001B[49m\u001B[43m(\u001B[49m\u001B[43mmajor\u001B[49m\u001B[38;5;241;43m=\u001B[39;49m\u001B[38;5;28;43;01mTrue\u001B[39;49;00m\u001B[43m)\u001B[49m\n\u001B[0;32m   1603\u001B[0m     \u001B[38;5;28mself\u001B[39m\u001B[38;5;241m.\u001B[39mmajorTicks\u001B[38;5;241m.\u001B[39mappend(tick)\n\u001B[0;32m   1604\u001B[0m     \u001B[38;5;28mself\u001B[39m\u001B[38;5;241m.\u001B[39m_copy_tick_props(\u001B[38;5;28mself\u001B[39m\u001B[38;5;241m.\u001B[39mmajorTicks[\u001B[38;5;241m0\u001B[39m], tick)\n",
      "File \u001B[1;32mc:\\users\\filip\\documents\\projekciki\\ai-based-dataset-recommendation-system\\lib\\site-packages\\matplotlib\\axis.py:1551\u001B[0m, in \u001B[0;36mAxis._get_tick\u001B[1;34m(self, major)\u001B[0m\n\u001B[0;32m   1547\u001B[0m     \u001B[38;5;28;01mraise\u001B[39;00m \u001B[38;5;167;01mNotImplementedError\u001B[39;00m(\n\u001B[0;32m   1548\u001B[0m         \u001B[38;5;124mf\u001B[39m\u001B[38;5;124m\"\u001B[39m\u001B[38;5;124mThe Axis subclass \u001B[39m\u001B[38;5;132;01m{\u001B[39;00m\u001B[38;5;28mself\u001B[39m\u001B[38;5;241m.\u001B[39m\u001B[38;5;18m__class__\u001B[39m\u001B[38;5;241m.\u001B[39m\u001B[38;5;18m__name__\u001B[39m\u001B[38;5;132;01m}\u001B[39;00m\u001B[38;5;124m must define \u001B[39m\u001B[38;5;124m\"\u001B[39m\n\u001B[0;32m   1549\u001B[0m         \u001B[38;5;124m\"\u001B[39m\u001B[38;5;124m_tick_class or reimplement _get_tick()\u001B[39m\u001B[38;5;124m\"\u001B[39m)\n\u001B[0;32m   1550\u001B[0m tick_kw \u001B[38;5;241m=\u001B[39m \u001B[38;5;28mself\u001B[39m\u001B[38;5;241m.\u001B[39m_major_tick_kw \u001B[38;5;28;01mif\u001B[39;00m major \u001B[38;5;28;01melse\u001B[39;00m \u001B[38;5;28mself\u001B[39m\u001B[38;5;241m.\u001B[39m_minor_tick_kw\n\u001B[1;32m-> 1551\u001B[0m \u001B[38;5;28;01mreturn\u001B[39;00m \u001B[38;5;28mself\u001B[39m\u001B[38;5;241m.\u001B[39m_tick_class(\u001B[38;5;28mself\u001B[39m\u001B[38;5;241m.\u001B[39maxes, \u001B[38;5;241m0\u001B[39m, major\u001B[38;5;241m=\u001B[39mmajor, \u001B[38;5;241m*\u001B[39m\u001B[38;5;241m*\u001B[39mtick_kw)\n",
      "File \u001B[1;32mc:\\users\\filip\\documents\\projekciki\\ai-based-dataset-recommendation-system\\lib\\site-packages\\matplotlib\\axis.py:478\u001B[0m, in \u001B[0;36mYTick.__init__\u001B[1;34m(self, *args, **kwargs)\u001B[0m\n\u001B[0;32m    477\u001B[0m \u001B[38;5;28;01mdef\u001B[39;00m \u001B[38;5;21m__init__\u001B[39m(\u001B[38;5;28mself\u001B[39m, \u001B[38;5;241m*\u001B[39margs, \u001B[38;5;241m*\u001B[39m\u001B[38;5;241m*\u001B[39mkwargs):\n\u001B[1;32m--> 478\u001B[0m     \u001B[38;5;28msuper\u001B[39m()\u001B[38;5;241m.\u001B[39m\u001B[38;5;21m__init__\u001B[39m(\u001B[38;5;241m*\u001B[39margs, \u001B[38;5;241m*\u001B[39m\u001B[38;5;241m*\u001B[39mkwargs)\n\u001B[0;32m    479\u001B[0m     \u001B[38;5;66;03m# x in axes coords, y in data coords\u001B[39;00m\n\u001B[0;32m    480\u001B[0m     ax \u001B[38;5;241m=\u001B[39m \u001B[38;5;28mself\u001B[39m\u001B[38;5;241m.\u001B[39maxes\n",
      "File \u001B[1;32mc:\\users\\filip\\documents\\projekciki\\ai-based-dataset-recommendation-system\\lib\\site-packages\\matplotlib\\axis.py:183\u001B[0m, in \u001B[0;36mTick.__init__\u001B[1;34m(self, axes, loc, size, width, color, tickdir, pad, labelsize, labelcolor, zorder, gridOn, tick1On, tick2On, label1On, label2On, major, labelrotation, grid_color, grid_linestyle, grid_linewidth, grid_alpha, **kwargs)\u001B[0m\n\u001B[0;32m    174\u001B[0m \u001B[38;5;28mself\u001B[39m\u001B[38;5;241m.\u001B[39mlabel1 \u001B[38;5;241m=\u001B[39m mtext\u001B[38;5;241m.\u001B[39mText(\n\u001B[0;32m    175\u001B[0m     np\u001B[38;5;241m.\u001B[39mnan, np\u001B[38;5;241m.\u001B[39mnan,\n\u001B[0;32m    176\u001B[0m     fontsize\u001B[38;5;241m=\u001B[39mlabelsize, color\u001B[38;5;241m=\u001B[39mlabelcolor, visible\u001B[38;5;241m=\u001B[39mlabel1On,\n\u001B[0;32m    177\u001B[0m     rotation\u001B[38;5;241m=\u001B[39m\u001B[38;5;28mself\u001B[39m\u001B[38;5;241m.\u001B[39m_labelrotation[\u001B[38;5;241m1\u001B[39m])\n\u001B[0;32m    178\u001B[0m \u001B[38;5;28mself\u001B[39m\u001B[38;5;241m.\u001B[39mlabel2 \u001B[38;5;241m=\u001B[39m mtext\u001B[38;5;241m.\u001B[39mText(\n\u001B[0;32m    179\u001B[0m     np\u001B[38;5;241m.\u001B[39mnan, np\u001B[38;5;241m.\u001B[39mnan,\n\u001B[0;32m    180\u001B[0m     fontsize\u001B[38;5;241m=\u001B[39mlabelsize, color\u001B[38;5;241m=\u001B[39mlabelcolor, visible\u001B[38;5;241m=\u001B[39mlabel2On,\n\u001B[0;32m    181\u001B[0m     rotation\u001B[38;5;241m=\u001B[39m\u001B[38;5;28mself\u001B[39m\u001B[38;5;241m.\u001B[39m_labelrotation[\u001B[38;5;241m1\u001B[39m])\n\u001B[1;32m--> 183\u001B[0m \u001B[38;5;28;43mself\u001B[39;49m\u001B[38;5;241;43m.\u001B[39;49m\u001B[43m_apply_tickdir\u001B[49m\u001B[43m(\u001B[49m\u001B[43mtickdir\u001B[49m\u001B[43m)\u001B[49m\n\u001B[0;32m    185\u001B[0m \u001B[38;5;28;01mfor\u001B[39;00m artist \u001B[38;5;129;01min\u001B[39;00m [\u001B[38;5;28mself\u001B[39m\u001B[38;5;241m.\u001B[39mtick1line, \u001B[38;5;28mself\u001B[39m\u001B[38;5;241m.\u001B[39mtick2line, \u001B[38;5;28mself\u001B[39m\u001B[38;5;241m.\u001B[39mgridline,\n\u001B[0;32m    186\u001B[0m                \u001B[38;5;28mself\u001B[39m\u001B[38;5;241m.\u001B[39mlabel1, \u001B[38;5;28mself\u001B[39m\u001B[38;5;241m.\u001B[39mlabel2]:\n\u001B[0;32m    187\u001B[0m     \u001B[38;5;28mself\u001B[39m\u001B[38;5;241m.\u001B[39m_set_artist_props(artist)\n",
      "File \u001B[1;32mc:\\users\\filip\\documents\\projekciki\\ai-based-dataset-recommendation-system\\lib\\site-packages\\matplotlib\\axis.py:513\u001B[0m, in \u001B[0;36mYTick._apply_tickdir\u001B[1;34m(self, tickdir)\u001B[0m\n\u001B[0;32m    507\u001B[0m \u001B[38;5;28msuper\u001B[39m()\u001B[38;5;241m.\u001B[39m_apply_tickdir(tickdir)\n\u001B[0;32m    508\u001B[0m mark1, mark2 \u001B[38;5;241m=\u001B[39m {\n\u001B[0;32m    509\u001B[0m     \u001B[38;5;124m'\u001B[39m\u001B[38;5;124mout\u001B[39m\u001B[38;5;124m'\u001B[39m: (mlines\u001B[38;5;241m.\u001B[39mTICKLEFT, mlines\u001B[38;5;241m.\u001B[39mTICKRIGHT),\n\u001B[0;32m    510\u001B[0m     \u001B[38;5;124m'\u001B[39m\u001B[38;5;124min\u001B[39m\u001B[38;5;124m'\u001B[39m: (mlines\u001B[38;5;241m.\u001B[39mTICKRIGHT, mlines\u001B[38;5;241m.\u001B[39mTICKLEFT),\n\u001B[0;32m    511\u001B[0m     \u001B[38;5;124m'\u001B[39m\u001B[38;5;124minout\u001B[39m\u001B[38;5;124m'\u001B[39m: (\u001B[38;5;124m'\u001B[39m\u001B[38;5;124m_\u001B[39m\u001B[38;5;124m'\u001B[39m, \u001B[38;5;124m'\u001B[39m\u001B[38;5;124m_\u001B[39m\u001B[38;5;124m'\u001B[39m),\n\u001B[0;32m    512\u001B[0m }[\u001B[38;5;28mself\u001B[39m\u001B[38;5;241m.\u001B[39m_tickdir]\n\u001B[1;32m--> 513\u001B[0m \u001B[38;5;28;43mself\u001B[39;49m\u001B[38;5;241;43m.\u001B[39;49m\u001B[43mtick1line\u001B[49m\u001B[38;5;241;43m.\u001B[39;49m\u001B[43mset_marker\u001B[49m\u001B[43m(\u001B[49m\u001B[43mmark1\u001B[49m\u001B[43m)\u001B[49m\n\u001B[0;32m    514\u001B[0m \u001B[38;5;28mself\u001B[39m\u001B[38;5;241m.\u001B[39mtick2line\u001B[38;5;241m.\u001B[39mset_marker(mark2)\n",
      "File \u001B[1;32mc:\\users\\filip\\documents\\projekciki\\ai-based-dataset-recommendation-system\\lib\\site-packages\\matplotlib\\lines.py:1193\u001B[0m, in \u001B[0;36mLine2D.set_marker\u001B[1;34m(self, marker)\u001B[0m\n\u001B[0;32m   1182\u001B[0m \u001B[38;5;129m@_docstring\u001B[39m\u001B[38;5;241m.\u001B[39minterpd\n\u001B[0;32m   1183\u001B[0m \u001B[38;5;28;01mdef\u001B[39;00m \u001B[38;5;21mset_marker\u001B[39m(\u001B[38;5;28mself\u001B[39m, marker):\n\u001B[0;32m   1184\u001B[0m \u001B[38;5;250m    \u001B[39m\u001B[38;5;124;03m\"\"\"\u001B[39;00m\n\u001B[0;32m   1185\u001B[0m \u001B[38;5;124;03m    Set the line marker.\u001B[39;00m\n\u001B[0;32m   1186\u001B[0m \n\u001B[1;32m   (...)\u001B[0m\n\u001B[0;32m   1191\u001B[0m \u001B[38;5;124;03m        arguments.\u001B[39;00m\n\u001B[0;32m   1192\u001B[0m \u001B[38;5;124;03m    \"\"\"\u001B[39;00m\n\u001B[1;32m-> 1193\u001B[0m     \u001B[38;5;28mself\u001B[39m\u001B[38;5;241m.\u001B[39m_marker \u001B[38;5;241m=\u001B[39m \u001B[43mMarkerStyle\u001B[49m\u001B[43m(\u001B[49m\u001B[43mmarker\u001B[49m\u001B[43m,\u001B[49m\u001B[43m \u001B[49m\u001B[38;5;28;43mself\u001B[39;49m\u001B[38;5;241;43m.\u001B[39;49m\u001B[43m_marker\u001B[49m\u001B[38;5;241;43m.\u001B[39;49m\u001B[43mget_fillstyle\u001B[49m\u001B[43m(\u001B[49m\u001B[43m)\u001B[49m\u001B[43m)\u001B[49m\n\u001B[0;32m   1194\u001B[0m     \u001B[38;5;28mself\u001B[39m\u001B[38;5;241m.\u001B[39mstale \u001B[38;5;241m=\u001B[39m \u001B[38;5;28;01mTrue\u001B[39;00m\n",
      "File \u001B[1;32mc:\\users\\filip\\documents\\projekciki\\ai-based-dataset-recommendation-system\\lib\\site-packages\\matplotlib\\markers.py:272\u001B[0m, in \u001B[0;36mMarkerStyle.__init__\u001B[1;34m(self, marker, fillstyle, transform, capstyle, joinstyle)\u001B[0m\n\u001B[0;32m    267\u001B[0m     marker \u001B[38;5;241m=\u001B[39m \u001B[38;5;124m\"\u001B[39m\u001B[38;5;124m\"\u001B[39m\n\u001B[0;32m    268\u001B[0m     _api\u001B[38;5;241m.\u001B[39mwarn_deprecated(\n\u001B[0;32m    269\u001B[0m         \u001B[38;5;124m\"\u001B[39m\u001B[38;5;124m3.6\u001B[39m\u001B[38;5;124m\"\u001B[39m, message\u001B[38;5;241m=\u001B[39m\u001B[38;5;124m\"\u001B[39m\u001B[38;5;124mMarkerStyle(None) is deprecated since \u001B[39m\u001B[38;5;124m\"\u001B[39m\n\u001B[0;32m    270\u001B[0m         \u001B[38;5;124m\"\u001B[39m\u001B[38;5;132;01m%(since)s\u001B[39;00m\u001B[38;5;124m; support will be removed \u001B[39m\u001B[38;5;132;01m%(removal)s\u001B[39;00m\u001B[38;5;124m.  Use \u001B[39m\u001B[38;5;124m\"\u001B[39m\n\u001B[0;32m    271\u001B[0m         \u001B[38;5;124m\"\u001B[39m\u001B[38;5;124mMarkerStyle(\u001B[39m\u001B[38;5;124m'\u001B[39m\u001B[38;5;124m'\u001B[39m\u001B[38;5;124m) to construct an empty MarkerStyle.\u001B[39m\u001B[38;5;124m\"\u001B[39m)\n\u001B[1;32m--> 272\u001B[0m \u001B[38;5;28;43mself\u001B[39;49m\u001B[38;5;241;43m.\u001B[39;49m\u001B[43m_set_marker\u001B[49m\u001B[43m(\u001B[49m\u001B[43mmarker\u001B[49m\u001B[43m)\u001B[49m\n",
      "File \u001B[1;32mc:\\users\\filip\\documents\\projekciki\\ai-based-dataset-recommendation-system\\lib\\site-packages\\matplotlib\\markers.py:367\u001B[0m, in \u001B[0;36mMarkerStyle._set_marker\u001B[1;34m(self, marker)\u001B[0m\n\u001B[0;32m    365\u001B[0m \u001B[38;5;28;01mif\u001B[39;00m \u001B[38;5;129;01mnot\u001B[39;00m \u001B[38;5;28misinstance\u001B[39m(marker, MarkerStyle):\n\u001B[0;32m    366\u001B[0m     \u001B[38;5;28mself\u001B[39m\u001B[38;5;241m.\u001B[39m_marker \u001B[38;5;241m=\u001B[39m marker\n\u001B[1;32m--> 367\u001B[0m     \u001B[38;5;28;43mself\u001B[39;49m\u001B[38;5;241;43m.\u001B[39;49m\u001B[43m_recache\u001B[49m\u001B[43m(\u001B[49m\u001B[43m)\u001B[49m\n",
      "File \u001B[1;32mc:\\users\\filip\\documents\\projekciki\\ai-based-dataset-recommendation-system\\lib\\site-packages\\matplotlib\\markers.py:291\u001B[0m, in \u001B[0;36mMarkerStyle._recache\u001B[1;34m(self)\u001B[0m\n\u001B[0;32m    287\u001B[0m \u001B[38;5;66;03m# Initial guess: Assume the marker is filled unless the fillstyle is\u001B[39;00m\n\u001B[0;32m    288\u001B[0m \u001B[38;5;66;03m# set to 'none'. The marker function will override this for unfilled\u001B[39;00m\n\u001B[0;32m    289\u001B[0m \u001B[38;5;66;03m# markers.\u001B[39;00m\n\u001B[0;32m    290\u001B[0m \u001B[38;5;28mself\u001B[39m\u001B[38;5;241m.\u001B[39m_filled \u001B[38;5;241m=\u001B[39m \u001B[38;5;28mself\u001B[39m\u001B[38;5;241m.\u001B[39m_fillstyle \u001B[38;5;241m!=\u001B[39m \u001B[38;5;124m'\u001B[39m\u001B[38;5;124mnone\u001B[39m\u001B[38;5;124m'\u001B[39m\n\u001B[1;32m--> 291\u001B[0m \u001B[38;5;28;43mself\u001B[39;49m\u001B[38;5;241;43m.\u001B[39;49m\u001B[43m_marker_function\u001B[49m\u001B[43m(\u001B[49m\u001B[43m)\u001B[49m\n",
      "File \u001B[1;32mc:\\users\\filip\\documents\\projekciki\\ai-based-dataset-recommendation-system\\lib\\site-packages\\matplotlib\\markers.py:792\u001B[0m, in \u001B[0;36mMarkerStyle._set_tickleft\u001B[1;34m(self)\u001B[0m\n\u001B[0;32m    791\u001B[0m \u001B[38;5;28;01mdef\u001B[39;00m \u001B[38;5;21m_set_tickleft\u001B[39m(\u001B[38;5;28mself\u001B[39m):\n\u001B[1;32m--> 792\u001B[0m     \u001B[38;5;28mself\u001B[39m\u001B[38;5;241m.\u001B[39m_transform \u001B[38;5;241m=\u001B[39m \u001B[43mAffine2D\u001B[49m\u001B[43m(\u001B[49m\u001B[43m)\u001B[49m\u001B[38;5;241m.\u001B[39mscale(\u001B[38;5;241m-\u001B[39m\u001B[38;5;241m1.0\u001B[39m, \u001B[38;5;241m1.0\u001B[39m)\n\u001B[0;32m    793\u001B[0m     \u001B[38;5;28mself\u001B[39m\u001B[38;5;241m.\u001B[39m_snap_threshold \u001B[38;5;241m=\u001B[39m \u001B[38;5;241m1.0\u001B[39m\n\u001B[0;32m    794\u001B[0m     \u001B[38;5;28mself\u001B[39m\u001B[38;5;241m.\u001B[39m_filled \u001B[38;5;241m=\u001B[39m \u001B[38;5;28;01mFalse\u001B[39;00m\n",
      "File \u001B[1;32mc:\\users\\filip\\documents\\projekciki\\ai-based-dataset-recommendation-system\\lib\\site-packages\\matplotlib\\transforms.py:1895\u001B[0m, in \u001B[0;36mAffine2D.__init__\u001B[1;34m(self, matrix, **kwargs)\u001B[0m\n\u001B[0;32m   1892\u001B[0m \u001B[38;5;28;01mif\u001B[39;00m matrix \u001B[38;5;129;01mis\u001B[39;00m \u001B[38;5;28;01mNone\u001B[39;00m:\n\u001B[0;32m   1893\u001B[0m     \u001B[38;5;66;03m# A bit faster than np.identity(3).\u001B[39;00m\n\u001B[0;32m   1894\u001B[0m     matrix \u001B[38;5;241m=\u001B[39m IdentityTransform\u001B[38;5;241m.\u001B[39m_mtx\n\u001B[1;32m-> 1895\u001B[0m \u001B[38;5;28mself\u001B[39m\u001B[38;5;241m.\u001B[39m_mtx \u001B[38;5;241m=\u001B[39m \u001B[43mmatrix\u001B[49m\u001B[38;5;241;43m.\u001B[39;49m\u001B[43mcopy\u001B[49m\u001B[43m(\u001B[49m\u001B[43m)\u001B[49m\n\u001B[0;32m   1896\u001B[0m \u001B[38;5;28mself\u001B[39m\u001B[38;5;241m.\u001B[39m_invalid \u001B[38;5;241m=\u001B[39m \u001B[38;5;241m0\u001B[39m\n",
      "\u001B[1;31mKeyboardInterrupt\u001B[0m: "
     ]
    },
    {
     "name": "stdout",
     "output_type": "stream",
     "text": [
      "Error in callback <function _draw_all_if_interactive at 0x000001D0BB0D3BE0> (for post_execute):\n"
     ]
    },
    {
     "ename": "KeyboardInterrupt",
     "evalue": "",
     "output_type": "error",
     "traceback": [
      "\u001B[1;31m---------------------------------------------------------------------------\u001B[0m",
      "\u001B[1;31mKeyboardInterrupt\u001B[0m                         Traceback (most recent call last)",
      "File \u001B[1;32mc:\\users\\filip\\documents\\projekciki\\ai-based-dataset-recommendation-system\\lib\\site-packages\\matplotlib\\pyplot.py:120\u001B[0m, in \u001B[0;36m_draw_all_if_interactive\u001B[1;34m()\u001B[0m\n\u001B[0;32m    118\u001B[0m \u001B[38;5;28;01mdef\u001B[39;00m \u001B[38;5;21m_draw_all_if_interactive\u001B[39m():\n\u001B[0;32m    119\u001B[0m     \u001B[38;5;28;01mif\u001B[39;00m matplotlib\u001B[38;5;241m.\u001B[39mis_interactive():\n\u001B[1;32m--> 120\u001B[0m         \u001B[43mdraw_all\u001B[49m\u001B[43m(\u001B[49m\u001B[43m)\u001B[49m\n",
      "File \u001B[1;32mc:\\users\\filip\\documents\\projekciki\\ai-based-dataset-recommendation-system\\lib\\site-packages\\matplotlib\\_pylab_helpers.py:132\u001B[0m, in \u001B[0;36mGcf.draw_all\u001B[1;34m(cls, force)\u001B[0m\n\u001B[0;32m    130\u001B[0m \u001B[38;5;28;01mfor\u001B[39;00m manager \u001B[38;5;129;01min\u001B[39;00m \u001B[38;5;28mcls\u001B[39m\u001B[38;5;241m.\u001B[39mget_all_fig_managers():\n\u001B[0;32m    131\u001B[0m     \u001B[38;5;28;01mif\u001B[39;00m force \u001B[38;5;129;01mor\u001B[39;00m manager\u001B[38;5;241m.\u001B[39mcanvas\u001B[38;5;241m.\u001B[39mfigure\u001B[38;5;241m.\u001B[39mstale:\n\u001B[1;32m--> 132\u001B[0m         \u001B[43mmanager\u001B[49m\u001B[38;5;241;43m.\u001B[39;49m\u001B[43mcanvas\u001B[49m\u001B[38;5;241;43m.\u001B[39;49m\u001B[43mdraw_idle\u001B[49m\u001B[43m(\u001B[49m\u001B[43m)\u001B[49m\n",
      "File \u001B[1;32mc:\\users\\filip\\documents\\projekciki\\ai-based-dataset-recommendation-system\\lib\\site-packages\\matplotlib\\backend_bases.py:2082\u001B[0m, in \u001B[0;36mFigureCanvasBase.draw_idle\u001B[1;34m(self, *args, **kwargs)\u001B[0m\n\u001B[0;32m   2080\u001B[0m \u001B[38;5;28;01mif\u001B[39;00m \u001B[38;5;129;01mnot\u001B[39;00m \u001B[38;5;28mself\u001B[39m\u001B[38;5;241m.\u001B[39m_is_idle_drawing:\n\u001B[0;32m   2081\u001B[0m     \u001B[38;5;28;01mwith\u001B[39;00m \u001B[38;5;28mself\u001B[39m\u001B[38;5;241m.\u001B[39m_idle_draw_cntx():\n\u001B[1;32m-> 2082\u001B[0m         \u001B[38;5;28mself\u001B[39m\u001B[38;5;241m.\u001B[39mdraw(\u001B[38;5;241m*\u001B[39margs, \u001B[38;5;241m*\u001B[39m\u001B[38;5;241m*\u001B[39mkwargs)\n",
      "File \u001B[1;32mc:\\users\\filip\\documents\\projekciki\\ai-based-dataset-recommendation-system\\lib\\site-packages\\matplotlib\\backends\\backend_agg.py:400\u001B[0m, in \u001B[0;36mFigureCanvasAgg.draw\u001B[1;34m(self)\u001B[0m\n\u001B[0;32m    396\u001B[0m \u001B[38;5;66;03m# Acquire a lock on the shared font cache.\u001B[39;00m\n\u001B[0;32m    397\u001B[0m \u001B[38;5;28;01mwith\u001B[39;00m RendererAgg\u001B[38;5;241m.\u001B[39mlock, \\\n\u001B[0;32m    398\u001B[0m      (\u001B[38;5;28mself\u001B[39m\u001B[38;5;241m.\u001B[39mtoolbar\u001B[38;5;241m.\u001B[39m_wait_cursor_for_draw_cm() \u001B[38;5;28;01mif\u001B[39;00m \u001B[38;5;28mself\u001B[39m\u001B[38;5;241m.\u001B[39mtoolbar\n\u001B[0;32m    399\u001B[0m       \u001B[38;5;28;01melse\u001B[39;00m nullcontext()):\n\u001B[1;32m--> 400\u001B[0m     \u001B[38;5;28;43mself\u001B[39;49m\u001B[38;5;241;43m.\u001B[39;49m\u001B[43mfigure\u001B[49m\u001B[38;5;241;43m.\u001B[39;49m\u001B[43mdraw\u001B[49m\u001B[43m(\u001B[49m\u001B[38;5;28;43mself\u001B[39;49m\u001B[38;5;241;43m.\u001B[39;49m\u001B[43mrenderer\u001B[49m\u001B[43m)\u001B[49m\n\u001B[0;32m    401\u001B[0m     \u001B[38;5;66;03m# A GUI class may be need to update a window using this draw, so\u001B[39;00m\n\u001B[0;32m    402\u001B[0m     \u001B[38;5;66;03m# don't forget to call the superclass.\u001B[39;00m\n\u001B[0;32m    403\u001B[0m     \u001B[38;5;28msuper\u001B[39m()\u001B[38;5;241m.\u001B[39mdraw()\n",
      "File \u001B[1;32mc:\\users\\filip\\documents\\projekciki\\ai-based-dataset-recommendation-system\\lib\\site-packages\\matplotlib\\artist.py:95\u001B[0m, in \u001B[0;36m_finalize_rasterization.<locals>.draw_wrapper\u001B[1;34m(artist, renderer, *args, **kwargs)\u001B[0m\n\u001B[0;32m     93\u001B[0m \u001B[38;5;129m@wraps\u001B[39m(draw)\n\u001B[0;32m     94\u001B[0m \u001B[38;5;28;01mdef\u001B[39;00m \u001B[38;5;21mdraw_wrapper\u001B[39m(artist, renderer, \u001B[38;5;241m*\u001B[39margs, \u001B[38;5;241m*\u001B[39m\u001B[38;5;241m*\u001B[39mkwargs):\n\u001B[1;32m---> 95\u001B[0m     result \u001B[38;5;241m=\u001B[39m draw(artist, renderer, \u001B[38;5;241m*\u001B[39margs, \u001B[38;5;241m*\u001B[39m\u001B[38;5;241m*\u001B[39mkwargs)\n\u001B[0;32m     96\u001B[0m     \u001B[38;5;28;01mif\u001B[39;00m renderer\u001B[38;5;241m.\u001B[39m_rasterizing:\n\u001B[0;32m     97\u001B[0m         renderer\u001B[38;5;241m.\u001B[39mstop_rasterizing()\n",
      "File \u001B[1;32mc:\\users\\filip\\documents\\projekciki\\ai-based-dataset-recommendation-system\\lib\\site-packages\\matplotlib\\artist.py:72\u001B[0m, in \u001B[0;36mallow_rasterization.<locals>.draw_wrapper\u001B[1;34m(artist, renderer)\u001B[0m\n\u001B[0;32m     69\u001B[0m     \u001B[38;5;28;01mif\u001B[39;00m artist\u001B[38;5;241m.\u001B[39mget_agg_filter() \u001B[38;5;129;01mis\u001B[39;00m \u001B[38;5;129;01mnot\u001B[39;00m \u001B[38;5;28;01mNone\u001B[39;00m:\n\u001B[0;32m     70\u001B[0m         renderer\u001B[38;5;241m.\u001B[39mstart_filter()\n\u001B[1;32m---> 72\u001B[0m     \u001B[38;5;28;01mreturn\u001B[39;00m \u001B[43mdraw\u001B[49m\u001B[43m(\u001B[49m\u001B[43martist\u001B[49m\u001B[43m,\u001B[49m\u001B[43m \u001B[49m\u001B[43mrenderer\u001B[49m\u001B[43m)\u001B[49m\n\u001B[0;32m     73\u001B[0m \u001B[38;5;28;01mfinally\u001B[39;00m:\n\u001B[0;32m     74\u001B[0m     \u001B[38;5;28;01mif\u001B[39;00m artist\u001B[38;5;241m.\u001B[39mget_agg_filter() \u001B[38;5;129;01mis\u001B[39;00m \u001B[38;5;129;01mnot\u001B[39;00m \u001B[38;5;28;01mNone\u001B[39;00m:\n",
      "File \u001B[1;32mc:\\users\\filip\\documents\\projekciki\\ai-based-dataset-recommendation-system\\lib\\site-packages\\matplotlib\\figure.py:3139\u001B[0m, in \u001B[0;36mFigure.draw\u001B[1;34m(self, renderer)\u001B[0m\n\u001B[0;32m   3136\u001B[0m         \u001B[38;5;28;01mpass\u001B[39;00m\n\u001B[0;32m   3137\u001B[0m         \u001B[38;5;66;03m# ValueError can occur when resizing a window.\u001B[39;00m\n\u001B[1;32m-> 3139\u001B[0m \u001B[38;5;28;43mself\u001B[39;49m\u001B[38;5;241;43m.\u001B[39;49m\u001B[43mpatch\u001B[49m\u001B[38;5;241;43m.\u001B[39;49m\u001B[43mdraw\u001B[49m\u001B[43m(\u001B[49m\u001B[43mrenderer\u001B[49m\u001B[43m)\u001B[49m\n\u001B[0;32m   3140\u001B[0m mimage\u001B[38;5;241m.\u001B[39m_draw_list_compositing_images(\n\u001B[0;32m   3141\u001B[0m     renderer, \u001B[38;5;28mself\u001B[39m, artists, \u001B[38;5;28mself\u001B[39m\u001B[38;5;241m.\u001B[39msuppressComposite)\n\u001B[0;32m   3143\u001B[0m \u001B[38;5;28;01mfor\u001B[39;00m sfig \u001B[38;5;129;01min\u001B[39;00m \u001B[38;5;28mself\u001B[39m\u001B[38;5;241m.\u001B[39msubfigs:\n",
      "File \u001B[1;32mc:\\users\\filip\\documents\\projekciki\\ai-based-dataset-recommendation-system\\lib\\site-packages\\matplotlib\\artist.py:72\u001B[0m, in \u001B[0;36mallow_rasterization.<locals>.draw_wrapper\u001B[1;34m(artist, renderer)\u001B[0m\n\u001B[0;32m     69\u001B[0m     \u001B[38;5;28;01mif\u001B[39;00m artist\u001B[38;5;241m.\u001B[39mget_agg_filter() \u001B[38;5;129;01mis\u001B[39;00m \u001B[38;5;129;01mnot\u001B[39;00m \u001B[38;5;28;01mNone\u001B[39;00m:\n\u001B[0;32m     70\u001B[0m         renderer\u001B[38;5;241m.\u001B[39mstart_filter()\n\u001B[1;32m---> 72\u001B[0m     \u001B[38;5;28;01mreturn\u001B[39;00m \u001B[43mdraw\u001B[49m\u001B[43m(\u001B[49m\u001B[43martist\u001B[49m\u001B[43m,\u001B[49m\u001B[43m \u001B[49m\u001B[43mrenderer\u001B[49m\u001B[43m)\u001B[49m\n\u001B[0;32m     73\u001B[0m \u001B[38;5;28;01mfinally\u001B[39;00m:\n\u001B[0;32m     74\u001B[0m     \u001B[38;5;28;01mif\u001B[39;00m artist\u001B[38;5;241m.\u001B[39mget_agg_filter() \u001B[38;5;129;01mis\u001B[39;00m \u001B[38;5;129;01mnot\u001B[39;00m \u001B[38;5;28;01mNone\u001B[39;00m:\n",
      "File \u001B[1;32mc:\\users\\filip\\documents\\projekciki\\ai-based-dataset-recommendation-system\\lib\\site-packages\\matplotlib\\patches.py:591\u001B[0m, in \u001B[0;36mPatch.draw\u001B[1;34m(self, renderer)\u001B[0m\n\u001B[0;32m    589\u001B[0m tpath \u001B[38;5;241m=\u001B[39m transform\u001B[38;5;241m.\u001B[39mtransform_path_non_affine(path)\n\u001B[0;32m    590\u001B[0m affine \u001B[38;5;241m=\u001B[39m transform\u001B[38;5;241m.\u001B[39mget_affine()\n\u001B[1;32m--> 591\u001B[0m \u001B[38;5;28;43mself\u001B[39;49m\u001B[38;5;241;43m.\u001B[39;49m\u001B[43m_draw_paths_with_artist_properties\u001B[49m\u001B[43m(\u001B[49m\n\u001B[0;32m    592\u001B[0m \u001B[43m    \u001B[49m\u001B[43mrenderer\u001B[49m\u001B[43m,\u001B[49m\n\u001B[0;32m    593\u001B[0m \u001B[43m    \u001B[49m\u001B[43m[\u001B[49m\u001B[43m(\u001B[49m\u001B[43mtpath\u001B[49m\u001B[43m,\u001B[49m\u001B[43m \u001B[49m\u001B[43maffine\u001B[49m\u001B[43m,\u001B[49m\n\u001B[0;32m    594\u001B[0m \u001B[43m      \u001B[49m\u001B[38;5;66;43;03m# Work around a bug in the PDF and SVG renderers, which\u001B[39;49;00m\n\u001B[0;32m    595\u001B[0m \u001B[43m      \u001B[49m\u001B[38;5;66;43;03m# do not draw the hatches if the facecolor is fully\u001B[39;49;00m\n\u001B[0;32m    596\u001B[0m \u001B[43m      \u001B[49m\u001B[38;5;66;43;03m# transparent, but do if it is None.\u001B[39;49;00m\n\u001B[0;32m    597\u001B[0m \u001B[43m      \u001B[49m\u001B[38;5;28;43mself\u001B[39;49m\u001B[38;5;241;43m.\u001B[39;49m\u001B[43m_facecolor\u001B[49m\u001B[43m \u001B[49m\u001B[38;5;28;43;01mif\u001B[39;49;00m\u001B[43m \u001B[49m\u001B[38;5;28;43mself\u001B[39;49m\u001B[38;5;241;43m.\u001B[39;49m\u001B[43m_facecolor\u001B[49m\u001B[43m[\u001B[49m\u001B[38;5;241;43m3\u001B[39;49m\u001B[43m]\u001B[49m\u001B[43m \u001B[49m\u001B[38;5;28;43;01melse\u001B[39;49;00m\u001B[43m \u001B[49m\u001B[38;5;28;43;01mNone\u001B[39;49;00m\u001B[43m)\u001B[49m\u001B[43m]\u001B[49m\u001B[43m)\u001B[49m\n",
      "File \u001B[1;32mc:\\users\\filip\\documents\\projekciki\\ai-based-dataset-recommendation-system\\lib\\site-packages\\matplotlib\\patches.py:576\u001B[0m, in \u001B[0;36mPatch._draw_paths_with_artist_properties\u001B[1;34m(self, renderer, draw_path_args_list)\u001B[0m\n\u001B[0;32m    573\u001B[0m     renderer \u001B[38;5;241m=\u001B[39m PathEffectRenderer(\u001B[38;5;28mself\u001B[39m\u001B[38;5;241m.\u001B[39mget_path_effects(), renderer)\n\u001B[0;32m    575\u001B[0m \u001B[38;5;28;01mfor\u001B[39;00m draw_path_args \u001B[38;5;129;01min\u001B[39;00m draw_path_args_list:\n\u001B[1;32m--> 576\u001B[0m     \u001B[43mrenderer\u001B[49m\u001B[38;5;241;43m.\u001B[39;49m\u001B[43mdraw_path\u001B[49m\u001B[43m(\u001B[49m\u001B[43mgc\u001B[49m\u001B[43m,\u001B[49m\u001B[43m \u001B[49m\u001B[38;5;241;43m*\u001B[39;49m\u001B[43mdraw_path_args\u001B[49m\u001B[43m)\u001B[49m\n\u001B[0;32m    578\u001B[0m gc\u001B[38;5;241m.\u001B[39mrestore()\n\u001B[0;32m    579\u001B[0m renderer\u001B[38;5;241m.\u001B[39mclose_group(\u001B[38;5;124m'\u001B[39m\u001B[38;5;124mpatch\u001B[39m\u001B[38;5;124m'\u001B[39m)\n",
      "\u001B[1;31mKeyboardInterrupt\u001B[0m: "
     ]
    },
    {
     "name": "stdout",
     "output_type": "stream",
     "text": [
      "Error in callback <function flush_figures at 0x000001D0B9C44E50> (for post_execute):\n"
     ]
    },
    {
     "name": "stderr",
     "output_type": "stream",
     "text": [
      "\n",
      "KeyboardInterrupt\n",
      "\n"
     ]
    }
   ],
   "source": [
    "from seaborn import barplot, countplot\n",
    "import matplotlib.pyplot as plt\n",
    "from matplotlib.pyplot import figure\n",
    "\n",
    "figure(num=None, figsize=(50,200), dpi=256, facecolor='w', edgecolor='r')\n",
    "# plt.title(\"Missing Value Prerceentag\")\n",
    "barplot(data=df, x=\"occurrence_count\", y=df.index)\n",
    "plt.show()\n",
    "plt.savefig(\"plot.png\")\n",
    "# countplot(data=df[\"occurrence_count\"])"
   ],
   "metadata": {
    "collapsed": false,
    "pycharm": {
     "name": "#%%\n"
    }
   }
  }
 ],
 "metadata": {
  "kernelspec": {
   "display_name": "Python 3",
   "language": "python",
   "name": "python3"
  },
  "language_info": {
   "codemirror_mode": {
    "name": "ipython",
    "version": 2
   },
   "file_extension": ".py",
   "mimetype": "text/x-python",
   "name": "python",
   "nbconvert_exporter": "python",
   "pygments_lexer": "ipython2",
   "version": "2.7.6"
  }
 },
 "nbformat": 4,
 "nbformat_minor": 0
}