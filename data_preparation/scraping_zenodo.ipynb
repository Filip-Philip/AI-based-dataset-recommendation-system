{
 "cells": [
  {
   "cell_type": "code",
   "execution_count": 3,
   "metadata": {
    "collapsed": true
   },
   "outputs": [
    {
     "name": "stdout",
     "output_type": "stream",
     "text": [
      "200\n",
      "100\n"
     ]
    }
   ],
   "source": [
    "import datetime\n",
    "import json\n",
    "\n",
    "import numpy as np\n",
    "import pandas as pd\n",
    "import requests\n",
    "from dotenv import load_dotenv\n",
    "import os\n",
    "import pprint\n",
    "\n",
    "load_dotenv(\"environment.env\")\n",
    "\n",
    "ACCESS_TOKEN = os.getenv(\"ZENODO_KEY\")\n",
    "headers = {\"accept\": \"application/json\"}\n",
    "\n",
    "# r = requests.get('https://zenodo.org/api/deposit/depositions',\n",
    "#                   params={'access_token': ACCESS_TOKEN})\n",
    "# r = requests.get('https://zenodo.org/search?page=1&size=20&q=neuroscience&access_right=open&type=publication&subtype=article&subtype=preprint&subtype=conferencepaper&subtype=thesis',\n",
    "#                   params={'access_token': ACCESS_TOKEN}, headers=headers)\n",
    "r = requests.get('https://zenodo.org/api/records',\n",
    "                  params={'access_token': ACCESS_TOKEN, 'q': 'publication_date:[2022-11-01 TO 2022-12-01]',\n",
    "                          'all_versions': 1, 'size': 100, 'type': 'dataset'})\n",
    "print(r.status_code)\n",
    "\n",
    "print(len(r.json()[\"hits\"][\"hits\"]))\n",
    "\n",
    "# pprint.pprint(r.json())"
   ]
  },
  {
   "cell_type": "code",
   "execution_count": 4,
   "outputs": [
    {
     "data": {
      "text/plain": "[{'bucket': 'f6a89f08-e47c-4bc4-b97d-9a3951b29bb0',\n  'checksum': 'md5:559f5867a515dcbae7e0c0a16c249033',\n  'key': 'DatasetS1.csv',\n  'links': {'self': 'https://zenodo.org/api/files/f6a89f08-e47c-4bc4-b97d-9a3951b29bb0/DatasetS1.csv'},\n  'size': 1984,\n  'type': 'csv'},\n {'bucket': 'f6a89f08-e47c-4bc4-b97d-9a3951b29bb0',\n  'checksum': 'md5:54fe991cf827e60550c73fd3bd3e7b25',\n  'key': 'DatasetS2.csv',\n  'links': {'self': 'https://zenodo.org/api/files/f6a89f08-e47c-4bc4-b97d-9a3951b29bb0/DatasetS2.csv'},\n  'size': 20295,\n  'type': 'csv'},\n {'bucket': 'f6a89f08-e47c-4bc4-b97d-9a3951b29bb0',\n  'checksum': 'md5:d096c89b1b1effbf55a628e6cda9935a',\n  'key': 'DatasetS3.txt',\n  'links': {'self': 'https://zenodo.org/api/files/f6a89f08-e47c-4bc4-b97d-9a3951b29bb0/DatasetS3.txt'},\n  'size': 71281,\n  'type': 'txt'},\n {'bucket': 'f6a89f08-e47c-4bc4-b97d-9a3951b29bb0',\n  'checksum': 'md5:276b31c65c55e94579eb56c66e57cb62',\n  'key': 'DatasetS4.grd',\n  'links': {'self': 'https://zenodo.org/api/files/f6a89f08-e47c-4bc4-b97d-9a3951b29bb0/DatasetS4.grd'},\n  'size': 75901,\n  'type': 'grd'},\n {'bucket': 'f6a89f08-e47c-4bc4-b97d-9a3951b29bb0',\n  'checksum': 'md5:ea4117eefb17b763c63c3a25f299a6ff',\n  'key': 'DatasetS5.txt',\n  'links': {'self': 'https://zenodo.org/api/files/f6a89f08-e47c-4bc4-b97d-9a3951b29bb0/DatasetS5.txt'},\n  'size': 111962,\n  'type': 'txt'},\n {'bucket': 'f6a89f08-e47c-4bc4-b97d-9a3951b29bb0',\n  'checksum': 'md5:a8b563ebf70e523d00a2030c09f355a6',\n  'key': 'DatasetS6.grd',\n  'links': {'self': 'https://zenodo.org/api/files/f6a89f08-e47c-4bc4-b97d-9a3951b29bb0/DatasetS6.grd'},\n  'size': 161001,\n  'type': 'grd'},\n {'bucket': 'f6a89f08-e47c-4bc4-b97d-9a3951b29bb0',\n  'checksum': 'md5:c363ccd357551cc5a7f107472c2d5233',\n  'key': 'DatasetS7.tgz',\n  'links': {'self': 'https://zenodo.org/api/files/f6a89f08-e47c-4bc4-b97d-9a3951b29bb0/DatasetS7.tgz'},\n  'size': 87428,\n  'type': 'tgz'},\n {'bucket': 'f6a89f08-e47c-4bc4-b97d-9a3951b29bb0',\n  'checksum': 'md5:f801afe45170d265d8c99676be7d02f0',\n  'key': 'Readme.pdf',\n  'links': {'self': 'https://zenodo.org/api/files/f6a89f08-e47c-4bc4-b97d-9a3951b29bb0/Readme.pdf'},\n  'size': 89522,\n  'type': 'pdf'}]"
     },
     "execution_count": 4,
     "metadata": {},
     "output_type": "execute_result"
    }
   ],
   "source": [
    "import datetime\n",
    "# for dataset in r.json()[\"hits\"][\"hits\"][:100]:\n",
    "#     s = dataset[\"files\"]\n",
    "sample = r.json()[\"hits\"][\"hits\"][6][\"files\"]\n",
    "# sample = datetime.datetime.strptime(r.json()[\"hits\"][\"hits\"][2][\"created\"])\n",
    "#\n",
    "# for dataset in sample:\n",
    "#     metadata = dataset.pop(\"metadata\")\n",
    "#     dataset |= metadata\n",
    "#\n",
    "# sample > datetime.datetime.now()\n",
    "sample\n",
    "# df = pd.DataFrame.from_records(r.json()[\"hits\"][\"hits\"][:10])\n",
    "# df\n",
    "#\n",
    "# datasets = []\n",
    "# for record in json.loads(r.text)[\"hits\"][\"hits\"]:\n",
    "#     tags = np.nan\n",
    "#     try:\n",
    "#         keywords = record[\"metadata\"][\"keywords\"]\n",
    "#         keyword_string = \" \".join(keywords)\n",
    "#         tags = keyword_string.split(\",\")\n",
    "#     except KeyError as e:\n",
    "#         pass\n",
    "#\n",
    "#     title = np.nan\n",
    "#     try:\n",
    "#         title = record[\"metadata\"][\"title\"]\n",
    "#     except KeyError as e:\n",
    "#         pass\n",
    "#\n",
    "#     description = np.nan\n",
    "#     try:\n",
    "#         description = record[\"metadata\"][\"description\"]\n",
    "#     except KeyError as e:\n",
    "#         pass\n",
    "#\n",
    "#     filetypes = np.nan\n",
    "#     try:\n",
    "#         filetypes = set([file[\"type\"] for file in record[\"files\"]])\n",
    "#     except KeyError as e:\n",
    "#         pass\n",
    "#\n",
    "#     doi = np.nan\n",
    "#     try:\n",
    "#         doi = record[\"doi\"] # but there's also 'conceptdoi' and 'metadata/doi'\n",
    "#     except KeyError as e:\n",
    "#         pass\n",
    "#\n",
    "#     last_updated = np.nan\n",
    "#     try:\n",
    "#         last_updated = record[\"updated\"]\n",
    "#     except KeyError as e:\n",
    "#         pass\n",
    "#\n",
    "#     creators = np.nan\n",
    "#     try:\n",
    "#         creators = [creator['name'] for creator in record[\"metadata\"][\"creators\"]]\n",
    "#     except KeyError as e:\n",
    "#         pass\n",
    "#\n",
    "#     dataset = {\"doi\": doi,\n",
    "#                \"title\": title,\n",
    "#                \"creators\": creators,\n",
    "#                \"description\": description,\n",
    "#                \"filetypes\": filetypes,\n",
    "#                \"tags\": tags,\n",
    "#                \"last_updated\": last_updated}\n",
    "#     datasets.append(dataset)\n",
    "#\n",
    "# datasets[:2]"
   ],
   "metadata": {
    "collapsed": false,
    "pycharm": {
     "name": "#%%\n"
    }
   }
  },
  {
   "cell_type": "code",
   "execution_count": null,
   "outputs": [],
   "source": [
    "import pandas as pd\n",
    "\n",
    "df = pd.DataFrame.from_records(datasets)\n",
    "df"
   ],
   "metadata": {
    "collapsed": false,
    "pycharm": {
     "name": "#%%\n"
    }
   }
  },
  {
   "cell_type": "code",
   "execution_count": null,
   "outputs": [],
   "source": [
    "df.to_csv(\"./10k_zenodo.csv\")"
   ],
   "metadata": {
    "collapsed": false,
    "pycharm": {
     "name": "#%%\n"
    }
   }
  }
 ],
 "metadata": {
  "kernelspec": {
   "display_name": "Python 3",
   "language": "python",
   "name": "python3"
  },
  "language_info": {
   "codemirror_mode": {
    "name": "ipython",
    "version": 2
   },
   "file_extension": ".py",
   "mimetype": "text/x-python",
   "name": "python",
   "nbconvert_exporter": "python",
   "pygments_lexer": "ipython2",
   "version": "2.7.6"
  }
 },
 "nbformat": 4,
 "nbformat_minor": 0
}