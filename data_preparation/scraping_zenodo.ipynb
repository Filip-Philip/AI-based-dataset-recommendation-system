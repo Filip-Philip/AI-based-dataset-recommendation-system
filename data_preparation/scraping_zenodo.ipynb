{
 "cells": [
  {
   "cell_type": "code",
   "execution_count": 1,
   "metadata": {
    "collapsed": true
   },
   "outputs": [
    {
     "name": "stdout",
     "output_type": "stream",
     "text": [
      "200\n",
      "100\n"
     ]
    }
   ],
   "source": [
    "import datetime\n",
    "import json\n",
    "\n",
    "import numpy as np\n",
    "import pandas as pd\n",
    "import requests\n",
    "from dotenv import load_dotenv\n",
    "import os\n",
    "import pprint\n",
    "\n",
    "load_dotenv(\"environment.env\")\n",
    "\n",
    "ACCESS_TOKEN = os.getenv(\"ZENODO_KEY\")\n",
    "headers = {\"accept\": \"application/json\"}\n",
    "\n",
    "# r = requests.get('https://zenodo.org/api/deposit/depositions',\n",
    "#                   params={'access_token': ACCESS_TOKEN})\n",
    "# r = requests.get('https://zenodo.org/search?page=1&size=20&q=neuroscience&access_right=open&type=publication&subtype=article&subtype=preprint&subtype=conferencepaper&subtype=thesis',\n",
    "#                   params={'access_token': ACCESS_TOKEN}, headers=headers)\n",
    "r = requests.get('https://zenodo.org/api/records',\n",
    "                  params={'access_token': ACCESS_TOKEN, 'q': 'publication_date:[2022-11-01 TO 2022-12-01]',\n",
    "                          'all_versions': 1, 'size': 100, 'type': 'dataset'})\n",
    "print(r.status_code)\n",
    "\n",
    "print(len(r.json()[\"hits\"][\"hits\"]))\n",
    "\n",
    "# pprint.pprint(r.json())"
   ]
  },
  {
   "cell_type": "code",
   "execution_count": 6,
   "outputs": [
    {
     "data": {
      "text/plain": "{'conceptdoi': '10.5281/zenodo.7330338',\n 'conceptrecid': '7330338',\n 'created': '2022-11-22T09:10:10.680638+00:00',\n 'doi': '10.5281/zenodo.7330339',\n 'files': [{'bucket': 'bf2a980d-f469-4c28-afc3-0db94ca18735',\n   'checksum': 'md5:aeb85048191cdf54826ebbcb32a2d2a2',\n   'key': 'B_BYF_0-05TIPA.rar',\n   'links': {'self': 'https://zenodo.org/api/files/bf2a980d-f469-4c28-afc3-0db94ca18735/B_BYF_0-05TIPA.rar'},\n   'size': 2102747,\n   'type': 'rar'},\n  {'bucket': 'bf2a980d-f469-4c28-afc3-0db94ca18735',\n   'checksum': 'md5:ca38be22904fdee68c16a3d2732848f0',\n   'key': 'B_BYF_2-0CaCl2.rar',\n   'links': {'self': 'https://zenodo.org/api/files/bf2a980d-f469-4c28-afc3-0db94ca18735/B_BYF_2-0CaCl2.rar'},\n   'size': 3600072,\n   'type': 'rar'},\n  {'bucket': 'bf2a980d-f469-4c28-afc3-0db94ca18735',\n   'checksum': 'md5:1b7740fa76fa048bacf50e7c0db7fb20',\n   'key': 'B_BYF_anhydrous.dat',\n   'links': {'self': 'https://zenodo.org/api/files/bf2a980d-f469-4c28-afc3-0db94ca18735/B_BYF_anhydrous.dat'},\n   'size': 321222,\n   'type': 'dat'},\n  {'bucket': 'bf2a980d-f469-4c28-afc3-0db94ca18735',\n   'checksum': 'md5:799956c79fa0bf18591c61d8c10585e5',\n   'key': 'B_BYF_REF.rar',\n   'links': {'self': 'https://zenodo.org/api/files/bf2a980d-f469-4c28-afc3-0db94ca18735/B_BYF_REF.rar'},\n   'size': 2097561,\n   'type': 'rar'}],\n 'id': 7330339,\n 'links': {'badge': 'https://zenodo.org/badge/doi/10.5281/zenodo.7330339.svg',\n  'bucket': 'https://zenodo.org/api/files/bf2a980d-f469-4c28-afc3-0db94ca18735',\n  'conceptbadge': 'https://zenodo.org/badge/doi/10.5281/zenodo.7330338.svg',\n  'conceptdoi': 'https://doi.org/10.5281/zenodo.7330338',\n  'doi': 'https://doi.org/10.5281/zenodo.7330339',\n  'html': 'https://zenodo.org/record/7330339',\n  'latest': 'https://zenodo.org/api/records/7330339',\n  'latest_html': 'https://zenodo.org/record/7330339',\n  'self': 'https://zenodo.org/api/records/7330339'},\n 'metadata': {'access_right': 'open',\n  'access_right_category': 'success',\n  'creators': [{'affiliation': '...Departamento de Química Inorgánica, Cristalografía y Mineralogía, Universidad de Málaga, Málaga, 29071, Spain',\n    'name': 'Raquel Pérez-Bravo'},\n   {'affiliation': '..Departamento de Química Inorgánica, Cristalografía y Mineralogía, Universidad de Málaga, Málaga, 29071, Spain',\n    'name': 'Alejandro Morales-Cantero'},\n   {'affiliation': 'Departamento de Química Inorgánica, Cristalografía y Mineralogía, Universidad de Málaga, Málaga, 29071, Spain',\n    'name': 'Ana Cuesta'},\n   {'affiliation': 'Departamento de Química Inorgánica, Cristalografía y Mineralogía, Universidad de Málaga, Málaga, 29071, Spain',\n    'name': 'Miguel A. G. Aranda'},\n   {'affiliation': 'Departamento de Química Inorgánica, Cristalografía y Mineralogía, Universidad de Málaga, Málaga, 29071, Spain',\n    'name': 'Isabel Santacruz'},\n   {'affiliation': 'Departamento de Química Inorgánica, Cristalografía y Mineralogía, Universidad de Málaga, Málaga, 29071, Spain',\n    'name': 'Angeles G. De la Torre'}],\n  'description': '<p>Raw data for &quot;Early hydration of Belite-Ye&rsquo;elimite-Ferrite cements: role of admixtures&quot;.</p>\\n\\n<p>Diffraction data is attached here</p>\\n\\n<pre>&nbsp;</pre>',\n  'doi': '10.5281/zenodo.7330339',\n  'keywords': ['CO2 footprint',\n   'CaCl2',\n   'TIPA',\n   'Rietveld analysis',\n   'synchrotron radiation'],\n  'language': 'eng',\n  'license': {'id': 'CC-BY-4.0'},\n  'notes': 'Acknowledgement :P18-RT-720 from the Andalusian regional government, are gratefully acknowledged. ALBA synchrotron is acknowledged for providing with beamtime at MSPD beamline.',\n  'publication_date': '2022-11-21',\n  'related_identifiers': [{'identifier': '10.5281/zenodo.7330338',\n    'relation': 'isVersionOf',\n    'scheme': 'doi'}],\n  'relations': {'version': [{'count': 1,\n     'index': 0,\n     'is_last': True,\n     'last_child': {'pid_type': 'recid', 'pid_value': '7330339'},\n     'parent': {'pid_type': 'recid', 'pid_value': '7330338'}}]},\n  'resource_type': {'title': 'Dataset', 'type': 'dataset'},\n  'title': 'Raw data for\"Early hydration of Belite-Ye\\'elimite-Ferrite cements: role of admixtures\"'},\n 'owners': [439728],\n 'revision': 2,\n 'stats': {'downloads': 0.0,\n  'unique_downloads': 0.0,\n  'unique_views': 3.0,\n  'version_downloads': 0.0,\n  'version_unique_downloads': 0.0,\n  'version_unique_views': 3.0,\n  'version_views': 3.0,\n  'version_volume': 0.0,\n  'views': 3.0,\n  'volume': 0.0},\n 'updated': '2022-11-22T14:26:35.089124+00:00'}"
     },
     "execution_count": 6,
     "metadata": {},
     "output_type": "execute_result"
    }
   ],
   "source": [
    "import datetime\n",
    "# for dataset in r.json()[\"hits\"][\"hits\"][:100]:\n",
    "#     s = dataset[\"files\"]\n",
    "sample = r.json()[\"hits\"][\"hits\"][13]\n",
    "# sample = datetime.datetime.strptime(r.json()[\"hits\"][\"hits\"][2][\"created\"])\n",
    "#\n",
    "# for dataset in sample:\n",
    "#     metadata = dataset.pop(\"metadata\")\n",
    "#     dataset |= metadata\n",
    "#\n",
    "# sample > datetime.datetime.now()\n",
    "sample\n",
    "# df = pd.DataFrame.from_records(r.json()[\"hits\"][\"hits\"][:10])\n",
    "# df\n",
    "#\n",
    "# datasets = []\n",
    "# for record in json.loads(r.text)[\"hits\"][\"hits\"]:\n",
    "#     tags = np.nan\n",
    "#     try:\n",
    "#         keywords = record[\"metadata\"][\"keywords\"]\n",
    "#         keyword_string = \" \".join(keywords)\n",
    "#         tags = keyword_string.split(\",\")\n",
    "#     except KeyError as e:\n",
    "#         pass\n",
    "#\n",
    "#     title = np.nan\n",
    "#     try:\n",
    "#         title = record[\"metadata\"][\"title\"]\n",
    "#     except KeyError as e:\n",
    "#         pass\n",
    "#\n",
    "#     description = np.nan\n",
    "#     try:\n",
    "#         description = record[\"metadata\"][\"description\"]\n",
    "#     except KeyError as e:\n",
    "#         pass\n",
    "#\n",
    "#     filetypes = np.nan\n",
    "#     try:\n",
    "#         filetypes = set([file[\"type\"] for file in record[\"files\"]])\n",
    "#     except KeyError as e:\n",
    "#         pass\n",
    "#\n",
    "#     doi = np.nan\n",
    "#     try:\n",
    "#         doi = record[\"doi\"] # but there's also 'conceptdoi' and 'metadata/doi'\n",
    "#     except KeyError as e:\n",
    "#         pass\n",
    "#\n",
    "#     last_updated = np.nan\n",
    "#     try:\n",
    "#         last_updated = record[\"updated\"]\n",
    "#     except KeyError as e:\n",
    "#         pass\n",
    "#\n",
    "#     creators = np.nan\n",
    "#     try:\n",
    "#         creators = [creator['name'] for creator in record[\"metadata\"][\"creators\"]]\n",
    "#     except KeyError as e:\n",
    "#         pass\n",
    "#\n",
    "#     dataset = {\"doi\": doi,\n",
    "#                \"title\": title,\n",
    "#                \"creators\": creators,\n",
    "#                \"description\": description,\n",
    "#                \"filetypes\": filetypes,\n",
    "#                \"tags\": tags,\n",
    "#                \"last_updated\": last_updated}\n",
    "#     datasets.append(dataset)\n",
    "#\n",
    "# datasets[:2]"
   ],
   "metadata": {
    "collapsed": false,
    "pycharm": {
     "name": "#%%\n"
    }
   }
  },
  {
   "cell_type": "code",
   "execution_count": null,
   "outputs": [],
   "source": [
    "import pandas as pd\n",
    "\n",
    "df = pd.DataFrame.from_records(datasets)\n",
    "df"
   ],
   "metadata": {
    "collapsed": false,
    "pycharm": {
     "name": "#%%\n"
    }
   }
  },
  {
   "cell_type": "code",
   "execution_count": null,
   "outputs": [],
   "source": [
    "parser = ZE\n",
    "df ="
   ],
   "metadata": {
    "collapsed": false,
    "pycharm": {
     "name": "#%%\n"
    }
   }
  }
 ],
 "metadata": {
  "kernelspec": {
   "display_name": "Python 3",
   "language": "python",
   "name": "python3"
  },
  "language_info": {
   "codemirror_mode": {
    "name": "ipython",
    "version": 2
   },
   "file_extension": ".py",
   "mimetype": "text/x-python",
   "name": "python",
   "nbconvert_exporter": "python",
   "pygments_lexer": "ipython2",
   "version": "2.7.6"
  }
 },
 "nbformat": 4,
 "nbformat_minor": 0
}