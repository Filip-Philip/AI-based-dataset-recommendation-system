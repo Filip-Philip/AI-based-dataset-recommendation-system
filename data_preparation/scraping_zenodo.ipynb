{
 "cells": [
  {
   "cell_type": "code",
   "execution_count": 39,
   "metadata": {
    "collapsed": true
   },
   "outputs": [
    {
     "name": "stdout",
     "output_type": "stream",
     "text": [
      "200\n",
      "4370\n"
     ]
    }
   ],
   "source": [
    "import datetime\n",
    "import json\n",
    "\n",
    "import numpy as np\n",
    "import pandas as pd\n",
    "import requests\n",
    "from dotenv import load_dotenv\n",
    "import os\n",
    "import pprint\n",
    "\n",
    "load_dotenv(\"environment.env\")\n",
    "\n",
    "ACCESS_TOKEN = os.getenv(\"ZENODO_KEY\")\n",
    "headers = {\"accept\": \"application/json\"}\n",
    "\n",
    "# r = requests.get('https://zenodo.org/api/deposit/depositions',\n",
    "#                   params={'access_token': ACCESS_TOKEN})\n",
    "# r = requests.get('https://zenodo.org/search?page=1&size=20&q=neuroscience&access_right=open&type=publication&subtype=article&subtype=preprint&subtype=conferencepaper&subtype=thesis',\n",
    "#                   params={'access_token': ACCESS_TOKEN}, headers=headers)\n",
    "r = requests.get('https://zenodo.org/api/records',\n",
    "                  params={'access_token': ACCESS_TOKEN, 'q': 'publication_date:[2022-11-01 TO 2022-12-01]',\n",
    "                          'all_versions': 1, 'size': 10000, 'type': 'dataset'})\n",
    "print(r.status_code)\n",
    "\n",
    "print(len(r.json()[\"hits\"][\"hits\"]))\n",
    "\n",
    "# pprint.pprint(r.json())"
   ]
  },
  {
   "cell_type": "code",
   "execution_count": 50,
   "outputs": [
    {
     "data": {
      "text/plain": "{'conceptrecid': '7324670',\n 'created': '2022-11-15T19:05:44.496792+00:00',\n 'doi': '10.5061/dryad.j6q573nj2',\n 'files': [{'bucket': '3a35d43a-b532-4bb1-b1d6-b5bafc270937',\n   'checksum': 'md5:3f24d516530d54a20f5047f36e2b5877',\n   'key': 'Campbell-Simberloff-Gender-Group-Based.csv',\n   'links': {'self': 'https://zenodo.org/api/files/3a35d43a-b532-4bb1-b1d6-b5bafc270937/Campbell-Simberloff-Gender-Group-Based.csv'},\n   'size': 6142900,\n   'type': 'csv'},\n  {'bucket': '3a35d43a-b532-4bb1-b1d6-b5bafc270937',\n   'checksum': 'md5:d442c33129a6f748322f282473ffdfc9',\n   'key': 'Campbell-Simberloff-Gender-Per-Capita.csv',\n   'links': {'self': 'https://zenodo.org/api/files/3a35d43a-b532-4bb1-b1d6-b5bafc270937/Campbell-Simberloff-Gender-Per-Capita.csv'},\n   'size': 20694,\n   'type': 'csv'},\n  {'bucket': '3a35d43a-b532-4bb1-b1d6-b5bafc270937',\n   'checksum': 'md5:3b8f78ab3ede94f509290a6a13208491',\n   'key': 'Campbell-Simberloff-Gender-Self-Citation.csv',\n   'links': {'self': 'https://zenodo.org/api/files/3a35d43a-b532-4bb1-b1d6-b5bafc270937/Campbell-Simberloff-Gender-Self-Citation.csv'},\n   'size': 116951,\n   'type': 'csv'},\n  {'bucket': '3a35d43a-b532-4bb1-b1d6-b5bafc270937',\n   'checksum': 'md5:6de414b6c61ab9d73fa34f249456eaf6',\n   'key': 'README.md',\n   'links': {'self': 'https://zenodo.org/api/files/3a35d43a-b532-4bb1-b1d6-b5bafc270937/README.md'},\n   'size': 5225,\n   'type': 'md'}],\n 'id': 7324671,\n 'links': {'badge': 'https://zenodo.org/badge/doi/10.5061/dryad.j6q573nj2.svg',\n  'bucket': 'https://zenodo.org/api/files/3a35d43a-b532-4bb1-b1d6-b5bafc270937',\n  'doi': 'https://doi.org/10.5061/dryad.j6q573nj2',\n  'html': 'https://zenodo.org/record/7324671',\n  'latest': 'https://zenodo.org/api/records/7324671',\n  'latest_html': 'https://zenodo.org/record/7324671',\n  'self': 'https://zenodo.org/api/records/7324671'},\n 'metadata': {'access_right': 'open',\n  'access_right_category': 'success',\n  'communities': [{'id': 'dryad'}],\n  'creators': [{'affiliation': 'University of Tennessee at Knoxville',\n    'name': 'Campbell, Sara E.',\n    'orcid': '0000-0001-7195-8898'},\n   {'affiliation': 'University of Tennessee at Knoxville',\n    'name': 'Simberloff, Daniel'}],\n  'description': '<p>We analyzed 27,234 publications published since the rise of the field of invasion science in 1980 to evaluate the presence of gender differences in research productivity, the extent of collaboration, and the research impact of those differences. Our analysis revealed significantly fewer female- than male-authored publications, both per capita and as a group, and the underrepresentation of women as first and single authors persists despite improvements in the gender gap. At the current rate of increase, gender parity in first authorship will not be achieved until 2100, and men will continue to constitute the principal voice of first or single authors in invasion science. Women collaborate with fewer coauthors and are cited less frequently than men, on average, which may influence recruitment and retention to more senior academic positions. These gender disparities in this aspect of research performance suggest that, although the gender gap is lessening, women experience barriers in invasion science.</p>',\n  'doi': '10.5061/dryad.j6q573nj2',\n  'keywords': ['Authorship',\n   'Bibliometrics',\n   'Gender Disparities',\n   'Women in science',\n   'citations'],\n  'license': {'id': 'CC0-1.0'},\n  'notes': '<p><em><strong><span>Group-Based Data</span></strong></em></p>\\n<p><span>A comma-delimited file that contains bibliographic and gender information for 27,234 publications published in invasion science between 1980 and 2020 and also catalogued in Clarivate Analytics Web of Science Core Collection topics. See the accompanying metadata document (Campbell-Simberloff-Gender-Data-README.pdf) and the Supporting Data and Statistical Approach section of the original article for data sources.</span></p>\\n<ul>\\n<li><span>Campbell-Simberloff-Gender-Group-Based.csv</span></li>\\n</ul>\\n<p><em><strong><span>Per-Capita Data</span></strong></em></p>\\n<p><span>A comma-delimited file that contains author information and publication data for 660 authors who have published at least five publications in the group-based dataset. See the accompanying metadata document (Campbell-Simberloff-Gender-Data-README.pdf) and the Supporting Data and Statistical Approach section of the original article for data sources.</span></p>\\n<ul>\\n<li><span>Campbell-Simberloff-Gender-Per-Capita.csv</span></li>\\n</ul>\\n<p><em><strong><span>Self-Citation Data</span></strong></em></p>\\n<p><span>A comma-delimited file that contains bibliographic and gender information for 500 publications randomly sampled from the group-based dataset. See the accompanying metadata document (Campbell-Simberloff-Gender-Data-README.pdf) and the Supporting Data and Statistical Approach section of the original article for data sources.</span></p>\\n<ul>\\n<li><span>Campbell-Simberloff-Gender-Self-Citation.csv</span></li>\\n</ul>\\n<p><em><strong><span>Metadata for Data Files</span></strong></em></p>\\n<p><span>A PDF document that contains data sources and variable definitions in the comma-delimited files.</span></p>\\n<ul>\\n<li>Campbell-Simberloff-Gender-Data-README.pdf</li>\\n</ul><p>Funding provided by: University of Tennessee, Knoxville<br>Crossref Funder Registry ID: http://dx.doi.org/10.13039/100014455<br>Award Number: Nancy Gore Hunger Professorship in Environmental Studies</p>',\n  'publication_date': '2022-11-15',\n  'related_identifiers': [{'identifier': '10.1093/biosci/biac082',\n    'relation': 'isCitedBy',\n    'scheme': 'doi'},\n   {'identifier': '10.3897/neobiota.75.86949',\n    'relation': 'isCitedBy',\n    'scheme': 'doi'}],\n  'relations': {'version': [{'count': 1,\n     'index': 0,\n     'is_last': True,\n     'last_child': {'pid_type': 'recid', 'pid_value': '7324671'},\n     'parent': {'pid_type': 'recid', 'pid_value': '7324670'}}]},\n  'resource_type': {'title': 'Dataset', 'type': 'dataset'},\n  'title': 'The productivity puzzle in invasion science: Declining but persisting gender imbalances in research performance'},\n 'owners': [90070],\n 'revision': 2,\n 'stats': {'downloads': 8.0,\n  'unique_downloads': 8.0,\n  'unique_views': 10.0,\n  'version_downloads': 8.0,\n  'version_unique_downloads': 8.0,\n  'version_unique_views': 10.0,\n  'version_views': 10.0,\n  'version_volume': 49143200.0,\n  'views': 10.0,\n  'volume': 49143200.0},\n 'updated': '2022-11-16T02:26:38.271763+00:00'}"
     },
     "execution_count": 50,
     "metadata": {},
     "output_type": "execute_result"
    }
   ],
   "source": [
    "import datetime\n",
    "sample = r.json()[\"hits\"][\"hits\"][2]\n",
    "# sample = datetime.datetime.strptime(r.json()[\"hits\"][\"hits\"][2][\"created\"])\n",
    "\n",
    "# for dataset in sample:\n",
    "#     metadata = dataset.pop(\"metadata\")\n",
    "#     dataset |= metadata\n",
    "\n",
    "# sample > datetime.datetime.now()\n",
    "sample\n",
    "# df = pd.DataFrame.from_records(r.json()[\"hits\"][\"hits\"][:10])\n",
    "# df\n",
    "#\n",
    "# datasets = []\n",
    "# for record in json.loads(r.text)[\"hits\"][\"hits\"]:\n",
    "#     tags = np.nan\n",
    "#     try:\n",
    "#         keywords = record[\"metadata\"][\"keywords\"]\n",
    "#         keyword_string = \" \".join(keywords)\n",
    "#         tags = keyword_string.split(\",\")\n",
    "#     except KeyError as e:\n",
    "#         pass\n",
    "#\n",
    "#     title = np.nan\n",
    "#     try:\n",
    "#         title = record[\"metadata\"][\"title\"]\n",
    "#     except KeyError as e:\n",
    "#         pass\n",
    "#\n",
    "#     description = np.nan\n",
    "#     try:\n",
    "#         description = record[\"metadata\"][\"description\"]\n",
    "#     except KeyError as e:\n",
    "#         pass\n",
    "#\n",
    "#     filetypes = np.nan\n",
    "#     try:\n",
    "#         filetypes = set([file[\"type\"] for file in record[\"files\"]])\n",
    "#     except KeyError as e:\n",
    "#         pass\n",
    "#\n",
    "#     doi = np.nan\n",
    "#     try:\n",
    "#         doi = record[\"doi\"] # but there's also 'conceptdoi' and 'metadata/doi'\n",
    "#     except KeyError as e:\n",
    "#         pass\n",
    "#\n",
    "#     last_updated = np.nan\n",
    "#     try:\n",
    "#         last_updated = record[\"updated\"]\n",
    "#     except KeyError as e:\n",
    "#         pass\n",
    "#\n",
    "#     creators = np.nan\n",
    "#     try:\n",
    "#         creators = [creator['name'] for creator in record[\"metadata\"][\"creators\"]]\n",
    "#     except KeyError as e:\n",
    "#         pass\n",
    "#\n",
    "#     dataset = {\"doi\": doi,\n",
    "#                \"title\": title,\n",
    "#                \"creators\": creators,\n",
    "#                \"description\": description,\n",
    "#                \"filetypes\": filetypes,\n",
    "#                \"tags\": tags,\n",
    "#                \"last_updated\": last_updated}\n",
    "#     datasets.append(dataset)\n",
    "#\n",
    "# datasets[:2]"
   ],
   "metadata": {
    "collapsed": false,
    "pycharm": {
     "name": "#%%\n"
    }
   }
  },
  {
   "cell_type": "code",
   "execution_count": null,
   "outputs": [],
   "source": [
    "import pandas as pd\n",
    "\n",
    "df = pd.DataFrame.from_records(datasets)\n",
    "df"
   ],
   "metadata": {
    "collapsed": false,
    "pycharm": {
     "name": "#%%\n"
    }
   }
  },
  {
   "cell_type": "code",
   "execution_count": null,
   "outputs": [],
   "source": [
    "df.to_csv(\"./10k_zenodo.csv\")"
   ],
   "metadata": {
    "collapsed": false,
    "pycharm": {
     "name": "#%%\n"
    }
   }
  }
 ],
 "metadata": {
  "kernelspec": {
   "display_name": "Python 3",
   "language": "python",
   "name": "python3"
  },
  "language_info": {
   "codemirror_mode": {
    "name": "ipython",
    "version": 2
   },
   "file_extension": ".py",
   "mimetype": "text/x-python",
   "name": "python",
   "nbconvert_exporter": "python",
   "pygments_lexer": "ipython2",
   "version": "2.7.6"
  }
 },
 "nbformat": 4,
 "nbformat_minor": 0
}