{
 "cells": [
  {
   "cell_type": "code",
   "execution_count": 12,
   "metadata": {
    "collapsed": true
   },
   "outputs": [],
   "source": [
    "import requests\n",
    "import json\n",
    "import pandas as pd\n",
    "import pprint"
   ]
  },
  {
   "cell_type": "code",
   "execution_count": 13,
   "metadata": {
    "collapsed": false,
    "pycharm": {
     "name": "#%%\n"
    }
   },
   "outputs": [
    {
     "name": "stdout",
     "output_type": "stream",
     "text": [
      "316\n"
     ]
    }
   ],
   "source": [
    "url = \"https://api.pennsieve.io/discover/datasets?limit=200000000&offset=0&orderBy=relevance&orderDirection=desc\"\n",
    "\n",
    "headers = {\"accept\": \"application/json\"}\n",
    "\n",
    "response = requests.get(url, headers=headers)\n",
    "\n",
    "\n",
    "response_json = json.loads(response.text)\n",
    "\n",
    "pprint.pprint(response_json[\"datasets\"][0]['id'])\n"
   ]
  },
  {
   "cell_type": "code",
   "execution_count": 15,
   "metadata": {
    "collapsed": false,
    "pycharm": {
     "name": "#%%\n"
    }
   },
   "outputs": [
    {
     "data": {
      "text/plain": "{'id': 316,\n 'sourceDatasetId': 2473,\n 'name': 'Decoding vagus nerve activity with carbon nanotube sensors in freely moving rodents',\n 'description': 'A carbon nanotube yarn (CNTY) biosensor was used to chronically record from the vagus nerves of freely moving rats for over 40 continuous hours.',\n 'ownerId': 1425,\n 'ownerFirstName': 'Aaron',\n 'ownerLastName': 'Rodrigues',\n 'ownerOrcid': '0000-0003-3865-6059',\n 'organizationName': 'SPARC',\n 'organizationId': 367,\n 'license': 'Creative Commons Attribution',\n 'tags': ['vagus nerve',\n  'intraneural',\n  'decoding',\n  'intrafascicular',\n  'recording',\n  'carbon nanotube'],\n 'version': 1,\n 'revision': None,\n 'size': 498466573142,\n 'modelCount': [],\n 'fileCount': 828,\n 'recordCount': 0,\n 'uri': 's3://prd-sparc-discover-use1/316/1/',\n 'arn': 'arn:aws:s3:::prd-sparc-discover-use1/316/1/',\n 'status': 'PUBLISH_SUCCEEDED',\n 'doi': '10.26275/do5j-mz5q',\n 'banner': 'https://assets.discover.pennsieve.io/dataset-assets/316/1/banner.jpg',\n 'readme': 'https://assets.discover.pennsieve.io/dataset-assets/316/1/readme.md',\n 'contributors': [{'firstName': 'Joseph',\n   'middleInitial': None,\n   'lastName': 'Marmerstein',\n   'degree': 'Ph.D.',\n   'orcid': '0000-0002-4093-9616'},\n  {'firstName': 'Grant',\n   'middleInitial': None,\n   'lastName': 'McCallum',\n   'degree': None,\n   'orcid': '0000-0001-5009-914X'},\n  {'firstName': 'Aaron',\n   'middleInitial': None,\n   'lastName': 'Rodrigues',\n   'degree': None,\n   'orcid': '0000-0003-3865-6059'},\n  {'firstName': 'Dominique',\n   'middleInitial': None,\n   'lastName': 'Durand',\n   'degree': None,\n   'orcid': '0000-0002-8355-6324'}],\n 'collections': [{'id': 340,\n   'name': 'Chronic recording in the vagus nerve with carbon nanotube yarn (CNTY) electrodes.'}],\n 'externalPublications': [{'doi': '10.17504/protocols.io.4r3l273x3g1y/v1',\n   'relationshipType': 'IsSupplementedBy'},\n  {'doi': '10.3390/bios12020114', 'relationshipType': 'IsDescribedBy'}],\n 'sponsorship': None,\n 'pennsieveSchemaVersion': '4.0',\n 'createdAt': '2023-04-15T00:56:37.286596Z',\n 'updatedAt': '2023-04-15T03:00:42.983653Z',\n 'firstPublishedAt': '2023-04-15T00:56:37.27576Z',\n 'versionPublishedAt': '2023-04-15T00:56:37.286596Z',\n 'revisedAt': None,\n 'embargo': False,\n 'embargoReleaseDate': '2023-02-08',\n 'embargoAccess': None,\n 'download_time': '16:49 Jan 14th'}"
     },
     "execution_count": 15,
     "metadata": {},
     "output_type": "execute_result"
    }
   ],
   "source": [
    "# for dataset in response_json['datasets']:\n",
    "#     dataset[\"download_time\"] = \"16:49 Jan 14th\"\n",
    "#\n",
    "# response_json['datasets'][0]\n",
    "# data = pd.DataFrame.from_records(response_json['datasets'])"
   ]
  },
  {
   "cell_type": "code",
   "execution_count": 13,
   "metadata": {
    "collapsed": false,
    "pycharm": {
     "name": "#%%\n"
    }
   },
   "outputs": [],
   "source": [
    "data.to_csv(\"../data/Pennsieve/raw.csv\")"
   ]
  },
  {
   "cell_type": "code",
   "execution_count": 14,
   "metadata": {
    "collapsed": false,
    "pycharm": {
     "name": "#%%\n"
    }
   },
   "outputs": [],
   "source": [
    "columns_to_keep = ['id', 'sourceDatasetId', 'doi', 'name', 'description', 'tags']\n",
    "\n",
    "data_filtered = data[columns_to_keep]\n",
    "data_filtered.to_csv(\"../data/Pennsieve/filtered.csv\")"
   ]
  },
  {
   "cell_type": "code",
   "execution_count": 5,
   "outputs": [],
   "source": [
    "d = pd.read_csv(\"../data/Pennsieve/raw.csv\")"
   ],
   "metadata": {
    "collapsed": false,
    "pycharm": {
     "name": "#%%\n"
    }
   }
  },
  {
   "cell_type": "code",
   "execution_count": 10,
   "outputs": [
    {
     "data": {
      "text/plain": "Unnamed: 0                                                                0\nid                                                                      313\nsourceDatasetId                                                        2505\nname                      Computational-based mechanical analysis of Fec...\ndescription               Code and computational model associated with t...\nownerId                                                                 221\nownerFirstName                                                      Bhavesh\nownerLastName                                                         Patel\nownerOrcid                                              0000-0002-0307-262X\norganizationName                                                      SPARC\norganizationId                                                          367\nlicense                                        Creative Commons Attribution\ntags                                       ['force', 'model', 'defecation']\nversion                                                                   1\nrevision                                                                NaN\nsize                                                               36887439\nmodelCount                                                               []\nfileCount                                                                16\nrecordCount                                                               0\nuri                                     s3://prd-sparc-discover-use1/313/1/\narn                             arn:aws:s3:::prd-sparc-discover-use1/313/1/\nstatus                                                    PUBLISH_SUCCEEDED\ndoi                                                      10.26275/53cg-hai1\nbanner                    https://assets.discover.pennsieve.io/dataset-a...\nreadme                    https://assets.discover.pennsieve.io/dataset-a...\ncontributors              [{'firstName': 'Bhavesh', 'middleInitial': Non...\ncollections                                                              []\nexternalPublications                                                     []\nsponsorship                                                             NaN\npennsieveSchemaVersion                                                  4.0\ncreatedAt                                       2023-03-22T18:04:50.585886Z\nupdatedAt                                       2023-03-22T18:11:37.751608Z\nfirstPublishedAt                                2023-03-22T18:04:50.570933Z\nversionPublishedAt                              2023-03-22T18:04:50.585886Z\nrevisedAt                                                               NaN\nembargo                                                               False\nembargoReleaseDate                                                      NaN\nembargoAccess                                                           NaN\nName: 0, dtype: object"
     },
     "execution_count": 10,
     "metadata": {},
     "output_type": "execute_result"
    }
   ],
   "source": [
    "d.loc[0]"
   ],
   "metadata": {
    "collapsed": false,
    "pycharm": {
     "name": "#%%\n"
    }
   }
  }
 ],
 "metadata": {
  "kernelspec": {
   "display_name": "Python 3",
   "language": "python",
   "name": "python3"
  },
  "language_info": {
   "codemirror_mode": {
    "name": "ipython",
    "version": 3
   },
   "file_extension": ".py",
   "mimetype": "text/x-python",
   "name": "python",
   "nbconvert_exporter": "python",
   "pygments_lexer": "ipython3",
   "version": "3.9.6"
  }
 },
 "nbformat": 4,
 "nbformat_minor": 0
}