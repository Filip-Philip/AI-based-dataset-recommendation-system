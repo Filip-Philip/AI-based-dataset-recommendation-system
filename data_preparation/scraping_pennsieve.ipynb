{
 "cells": [
  {
   "cell_type": "code",
   "execution_count": 20,
   "metadata": {
    "collapsed": true
   },
   "outputs": [
    {
     "data": {
      "text/plain": "    id  sourceDatasetId                                               name  \\\n0  313             2505  Computational-based mechanical analysis of Fec...   \n1   77              673  Comparison of the intrinsic cardiac nervous sy...   \n\n                                         description  ownerId ownerFirstName  \\\n0  Code and computational model associated with t...      221        Bhavesh   \n1  Single neurons were mapped and cardiac anatomy...      257           Zixi   \n\n  ownerLastName           ownerOrcid  organizationName  organizationId  ...  \\\n0         Patel  0000-0002-0307-262X             SPARC             367  ...   \n1         Cheng  0000-0000-0000-0000  SPARC Consortium             367  ...   \n\n                                         sponsorship pennsieveSchemaVersion  \\\n0                                               None                    4.0   \n1  {'title': 'NIH SPARC Program', 'imageUrl': 'ht...                    4.0   \n\n                     createdAt                    updatedAt  \\\n0  2023-03-22T18:04:50.585886Z  2023-03-22T18:11:37.751608Z   \n1   2023-03-22T00:17:42.69245Z  2023-03-22T02:30:07.175475Z   \n\n              firstPublishedAt           versionPublishedAt  revisedAt  \\\n0  2023-03-22T18:04:50.570933Z  2023-03-22T18:04:50.585886Z       None   \n1  2020-05-08T20:08:27.881107Z   2023-03-22T00:17:42.69245Z       None   \n\n   embargo embargoReleaseDate embargoAccess  \n0    False               None          None  \n1    False               None          None  \n\n[2 rows x 37 columns]",
      "text/html": "<div>\n<style scoped>\n    .dataframe tbody tr th:only-of-type {\n        vertical-align: middle;\n    }\n\n    .dataframe tbody tr th {\n        vertical-align: top;\n    }\n\n    .dataframe thead th {\n        text-align: right;\n    }\n</style>\n<table border=\"1\" class=\"dataframe\">\n  <thead>\n    <tr style=\"text-align: right;\">\n      <th></th>\n      <th>id</th>\n      <th>sourceDatasetId</th>\n      <th>name</th>\n      <th>description</th>\n      <th>ownerId</th>\n      <th>ownerFirstName</th>\n      <th>ownerLastName</th>\n      <th>ownerOrcid</th>\n      <th>organizationName</th>\n      <th>organizationId</th>\n      <th>...</th>\n      <th>sponsorship</th>\n      <th>pennsieveSchemaVersion</th>\n      <th>createdAt</th>\n      <th>updatedAt</th>\n      <th>firstPublishedAt</th>\n      <th>versionPublishedAt</th>\n      <th>revisedAt</th>\n      <th>embargo</th>\n      <th>embargoReleaseDate</th>\n      <th>embargoAccess</th>\n    </tr>\n  </thead>\n  <tbody>\n    <tr>\n      <th>0</th>\n      <td>313</td>\n      <td>2505</td>\n      <td>Computational-based mechanical analysis of Fec...</td>\n      <td>Code and computational model associated with t...</td>\n      <td>221</td>\n      <td>Bhavesh</td>\n      <td>Patel</td>\n      <td>0000-0002-0307-262X</td>\n      <td>SPARC</td>\n      <td>367</td>\n      <td>...</td>\n      <td>None</td>\n      <td>4.0</td>\n      <td>2023-03-22T18:04:50.585886Z</td>\n      <td>2023-03-22T18:11:37.751608Z</td>\n      <td>2023-03-22T18:04:50.570933Z</td>\n      <td>2023-03-22T18:04:50.585886Z</td>\n      <td>None</td>\n      <td>False</td>\n      <td>None</td>\n      <td>None</td>\n    </tr>\n    <tr>\n      <th>1</th>\n      <td>77</td>\n      <td>673</td>\n      <td>Comparison of the intrinsic cardiac nervous sy...</td>\n      <td>Single neurons were mapped and cardiac anatomy...</td>\n      <td>257</td>\n      <td>Zixi</td>\n      <td>Cheng</td>\n      <td>0000-0000-0000-0000</td>\n      <td>SPARC Consortium</td>\n      <td>367</td>\n      <td>...</td>\n      <td>{'title': 'NIH SPARC Program', 'imageUrl': 'ht...</td>\n      <td>4.0</td>\n      <td>2023-03-22T00:17:42.69245Z</td>\n      <td>2023-03-22T02:30:07.175475Z</td>\n      <td>2020-05-08T20:08:27.881107Z</td>\n      <td>2023-03-22T00:17:42.69245Z</td>\n      <td>None</td>\n      <td>False</td>\n      <td>None</td>\n      <td>None</td>\n    </tr>\n  </tbody>\n</table>\n<p>2 rows × 37 columns</p>\n</div>"
     },
     "execution_count": 20,
     "metadata": {},
     "output_type": "execute_result"
    }
   ],
   "source": [
    "import requests\n",
    "import json\n",
    "import pandas as pd"
   ]
  },
  {
   "cell_type": "code",
   "execution_count": 25,
   "outputs": [],
   "source": [
    "url = \"https://api.pennsieve.io/discover/datasets?limit=200000000&offset=0&orderBy=relevance&orderDirection=desc\"\n",
    "\n",
    "headers = {\"accept\": \"application/json\"}\n",
    "\n",
    "response = requests.get(url, headers=headers)\n",
    "\n",
    "\n",
    "response_json = json.loads(response.text)"
   ],
   "metadata": {
    "collapsed": false,
    "pycharm": {
     "name": "#%%\n"
    }
   }
  },
  {
   "cell_type": "code",
   "execution_count": 26,
   "outputs": [],
   "source": [
    "data = pd.DataFrame.from_records(response_json['datasets'])"
   ],
   "metadata": {
    "collapsed": false,
    "pycharm": {
     "name": "#%%\n"
    }
   }
  },
  {
   "cell_type": "code",
   "execution_count": 31,
   "outputs": [],
   "source": [
    "data.to_csv(\"../data/Pennsieve/raw.csv\")"
   ],
   "metadata": {
    "collapsed": false,
    "pycharm": {
     "name": "#%%\n"
    }
   }
  },
  {
   "cell_type": "code",
   "execution_count": 41,
   "outputs": [],
   "source": [
    "columns_to_keep = ['id', 'sourceDatasetId', 'doi', 'name', 'description', 'tags']\n",
    "\n",
    "data_filtered = data[columns_to_keep]\n",
    "data_filtered.to_csv(\"../data/Pennsieve/filtered.csv\")"
   ],
   "metadata": {
    "collapsed": false,
    "pycharm": {
     "name": "#%%\n"
    }
   }
  }
 ],
 "metadata": {
  "kernelspec": {
   "display_name": "Python 3",
   "language": "python",
   "name": "python3"
  },
  "language_info": {
   "codemirror_mode": {
    "name": "ipython",
    "version": 2
   },
   "file_extension": ".py",
   "mimetype": "text/x-python",
   "name": "python",
   "nbconvert_exporter": "python",
   "pygments_lexer": "ipython2",
   "version": "2.7.6"
  }
 },
 "nbformat": 4,
 "nbformat_minor": 0
}