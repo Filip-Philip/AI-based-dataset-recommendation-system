{
 "cells": [
  {
   "cell_type": "code",
   "execution_count": 1,
   "metadata": {
    "collapsed": true
   },
   "outputs": [],
   "source": [
    "import requests\n",
    "import json\n",
    "import pandas as pd\n",
    "import pprint"
   ]
  },
  {
   "cell_type": "code",
   "execution_count": 2,
   "metadata": {
    "collapsed": false,
    "pycharm": {
     "name": "#%%\n"
    }
   },
   "outputs": [
    {
     "name": "stdout",
     "output_type": "stream",
     "text": [
      "317\n"
     ]
    }
   ],
   "source": [
    "url = \"https://api.pennsieve.io/discover/datasets?limit=200000000&offset=0&orderBy=relevance&orderDirection=desc\"\n",
    "\n",
    "headers = {\"accept\": \"application/json\"}\n",
    "\n",
    "response = requests.get(url, headers=headers)\n",
    "\n",
    "\n",
    "response_json = json.loads(response.text)\n",
    "\n",
    "pprint.pprint(response_json[\"datasets\"][0]['id'])\n"
   ]
  },
  {
   "cell_type": "code",
   "execution_count": 3,
   "metadata": {
    "collapsed": false,
    "pycharm": {
     "name": "#%%\n"
    }
   },
   "outputs": [
    {
     "name": "stdout",
     "output_type": "stream",
     "text": [
      "{'limit': 10000, 'offset': 0, 'totalCount': 6, 'files': [{'name': 'files', 'path': 'files', 'size': 4175998488, 'type': 'Directory'}, {'name': 'metadata', 'path': 'metadata', 'size': 4337, 'type': 'Directory'}, {'name': 'banner.jpg', 'path': 'banner.jpg', 'size': 23772, 'fileType': 'JPEG', 'uri': 's3://prd-sparc-discover-use1/317/1/banner.jpg', 'packageType': 'Image', 'icon': 'Image', 'sourcePackageId': None, 'createdAt': None, 'type': 'File'}, {'name': 'changelog.md', 'path': 'changelog.md', 'size': 24, 'fileType': 'Markdown', 'uri': 's3://prd-sparc-discover-use1/317/1/changelog.md', 'packageType': 'Unsupported', 'icon': 'Code', 'sourcePackageId': None, 'createdAt': None, 'type': 'File'}, {'name': 'manifest.json', 'path': 'manifest.json', 'size': 9681, 'fileType': 'Json', 'uri': 's3://prd-sparc-discover-use1/317/1/manifest.json', 'packageType': 'Unsupported', 'icon': 'JSON', 'sourcePackageId': None, 'createdAt': None, 'type': 'File'}, {'name': 'readme.md', 'path': 'readme.md', 'size': 1881, 'fileType': 'Markdown', 'uri': 's3://prd-sparc-discover-use1/317/1/readme.md', 'packageType': 'Unsupported', 'icon': 'Code', 'sourcePackageId': None, 'createdAt': None, 'type': 'File'}]}\n",
      "{'limit': 10000, 'offset': 0, 'totalCount': 6, 'files': [{'name': 'files', 'path': 'files', 'size': 498465642447, 'type': 'Directory'}, {'name': 'metadata', 'path': 'metadata', 'size': 143551, 'type': 'Directory'}, {'name': 'banner.jpg', 'path': 'banner.jpg', 'size': 19398, 'fileType': 'JPEG', 'uri': 's3://prd-sparc-discover-use1/316/1/banner.jpg', 'packageType': 'Image', 'icon': 'Image', 'sourcePackageId': None, 'createdAt': None, 'type': 'File'}, {'name': 'changelog.md', 'path': 'changelog.md', 'size': 24, 'fileType': 'Markdown', 'uri': 's3://prd-sparc-discover-use1/316/1/changelog.md', 'packageType': 'Unsupported', 'icon': 'Code', 'sourcePackageId': None, 'createdAt': None, 'type': 'File'}, {'name': 'manifest.json', 'path': 'manifest.json', 'size': 256988, 'fileType': 'Json', 'uri': 's3://prd-sparc-discover-use1/316/1/manifest.json', 'packageType': 'Unsupported', 'icon': 'JSON', 'sourcePackageId': None, 'createdAt': None, 'type': 'File'}, {'name': 'readme.md', 'path': 'readme.md', 'size': 2326, 'fileType': 'Markdown', 'uri': 's3://prd-sparc-discover-use1/316/1/readme.md', 'packageType': 'Unsupported', 'icon': 'Code', 'sourcePackageId': None, 'createdAt': None, 'type': 'File'}]}\n"
     ]
    }
   ],
   "source": [
    "for dataset in response_json['datasets'][:2]:\n",
    "    url = f\"https://api.pennsieve.io/discover/datasets/{dataset['id']}/versions/{dataset['version']}/files/browse?limit=10000\"\n",
    "\n",
    "    headers = {\"accept\": \"application/json\"}\n",
    "\n",
    "    response = requests.get(url, headers=headers)\n",
    "    print(response.json())\n",
    "#\n",
    "# response_json['datasets'][0]\n",
    "# data = pd.DataFrame.from_records(response_json['datasets'])"
   ]
  },
  {
   "cell_type": "code",
   "execution_count": 13,
   "metadata": {
    "collapsed": false,
    "pycharm": {
     "name": "#%%\n"
    }
   },
   "outputs": [],
   "source": [
    "data.to_csv(\"../data/Pennsieve/raw.csv\")"
   ]
  },
  {
   "cell_type": "code",
   "execution_count": 14,
   "metadata": {
    "collapsed": false,
    "pycharm": {
     "name": "#%%\n"
    }
   },
   "outputs": [],
   "source": [
    "columns_to_keep = ['id', 'sourceDatasetId', 'doi', 'name', 'description', 'tags']\n",
    "\n",
    "data_filtered = data[columns_to_keep]\n",
    "data_filtered.to_csv(\"../data/Pennsieve/filtered.csv\")"
   ]
  },
  {
   "cell_type": "code",
   "execution_count": 5,
   "outputs": [],
   "source": [
    "d = pd.read_csv(\"../data/Pennsieve/raw.csv\")"
   ],
   "metadata": {
    "collapsed": false,
    "pycharm": {
     "name": "#%%\n"
    }
   }
  },
  {
   "cell_type": "code",
   "execution_count": 10,
   "outputs": [
    {
     "data": {
      "text/plain": "Unnamed: 0                                                                0\nid                                                                      313\nsourceDatasetId                                                        2505\nname                      Computational-based mechanical analysis of Fec...\ndescription               Code and computational model associated with t...\nownerId                                                                 221\nownerFirstName                                                      Bhavesh\nownerLastName                                                         Patel\nownerOrcid                                              0000-0002-0307-262X\norganizationName                                                      SPARC\norganizationId                                                          367\nlicense                                        Creative Commons Attribution\ntags                                       ['force', 'model', 'defecation']\nversion                                                                   1\nrevision                                                                NaN\nsize                                                               36887439\nmodelCount                                                               []\nfileCount                                                                16\nrecordCount                                                               0\nuri                                     s3://prd-sparc-discover-use1/313/1/\narn                             arn:aws:s3:::prd-sparc-discover-use1/313/1/\nstatus                                                    PUBLISH_SUCCEEDED\ndoi                                                      10.26275/53cg-hai1\nbanner                    https://assets.discover.pennsieve.io/dataset-a...\nreadme                    https://assets.discover.pennsieve.io/dataset-a...\ncontributors              [{'firstName': 'Bhavesh', 'middleInitial': Non...\ncollections                                                              []\nexternalPublications                                                     []\nsponsorship                                                             NaN\npennsieveSchemaVersion                                                  4.0\ncreatedAt                                       2023-03-22T18:04:50.585886Z\nupdatedAt                                       2023-03-22T18:11:37.751608Z\nfirstPublishedAt                                2023-03-22T18:04:50.570933Z\nversionPublishedAt                              2023-03-22T18:04:50.585886Z\nrevisedAt                                                               NaN\nembargo                                                               False\nembargoReleaseDate                                                      NaN\nembargoAccess                                                           NaN\nName: 0, dtype: object"
     },
     "execution_count": 10,
     "metadata": {},
     "output_type": "execute_result"
    }
   ],
   "source": [
    "d.loc[0]"
   ],
   "metadata": {
    "collapsed": false,
    "pycharm": {
     "name": "#%%\n"
    }
   }
  }
 ],
 "metadata": {
  "kernelspec": {
   "display_name": "Python 3",
   "language": "python",
   "name": "python3"
  },
  "language_info": {
   "codemirror_mode": {
    "name": "ipython",
    "version": 3
   },
   "file_extension": ".py",
   "mimetype": "text/x-python",
   "name": "python",
   "nbconvert_exporter": "python",
   "pygments_lexer": "ipython3",
   "version": "3.9.6"
  }
 },
 "nbformat": 4,
 "nbformat_minor": 0
}