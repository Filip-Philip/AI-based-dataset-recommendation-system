{
 "cells": [
  {
   "cell_type": "code",
   "execution_count": 20,
   "metadata": {},
   "outputs": [],
   "source": [
    "#download metadata from dryad repository using the dryad API and save it as a csv file \n",
    "#against https://datadryad.org/api/v2/docs/#/root/get_search\n",
    "\n",
    "import requests\n",
    "import json\n",
    "import pandas as pd\n",
    "\n",
    "#iterate over each page of the search results and save the metadata in a list\n",
    "def get_dryad_metadata():\n",
    "    dryad_metadata = []\n",
    "    page = 1\n",
    "    while True:\n",
    "        url = \"https://datadryad.org/api/v2/search?q=Neuroscience&page=\" + str(page)\n",
    "        headers = {'Content-Type': 'application/json'}\n",
    "        response = requests.get(url, headers=headers)\n",
    "        response_json = response.json()\n",
    "        if len(response_json['_embedded'][\"stash:datasets\"]) == 0:\n",
    "            break\n",
    "        dryad_metadata.extend(response_json['_embedded'][\"stash:datasets\"])\n",
    "        page += 1\n",
    "    return dryad_metadata\n",
    "\n",
    "data = get_dryad_metadata()"
   ]
  },
  {
   "cell_type": "code",
   "execution_count": 28,
   "metadata": {},
   "outputs": [],
   "source": [
    "\n",
    "data_df = pd.DataFrame(data)\n",
    "#filtering out collumns with obsolete data\n",
    "data_df.drop(['_links','versionNumber', 'versionChanges'], axis=1, inplace=True)"
   ]
  },
  {
   "cell_type": "code",
   "execution_count": 29,
   "metadata": {},
   "outputs": [
    {
     "name": "stderr",
     "output_type": "stream",
     "text": [
      "C:\\Users\\Luki\\AppData\\Local\\Temp\\ipykernel_16112\\2889919398.py:3: FutureWarning: The default value of regex will change from True to False in a future version.\n",
      "  data_df[col] = data_df[col].str.replace('<[^<]+?>', '')\n"
     ]
    }
   ],
   "source": [
    "#filter out html tags and new lines from methods and abstract column\n",
    "for col in ['methods', 'abstract', 'usageNotes']:\n",
    "    data_df[col] = data_df[col].str.replace('<[^<]+?>', '')\n",
    "    data_df[col] = data_df[col].str.replace('\\n', ' ')\n",
    "    data_df[col] = data_df[col].str.replace('\\r', ' ')\n",
    "    \n"
   ]
  },
  {
   "cell_type": "code",
   "execution_count": 30,
   "metadata": {},
   "outputs": [
    {
     "name": "stdout",
     "output_type": "stream",
     "text": [
      "                    identifier     id   storageSize relatedPublicationISSN  \\\n",
      "0  doi:10.5061/dryad.mw6m905wb  65201        269166              0028-3878   \n",
      "1  doi:10.5061/dryad.vq83bk3s8  67999    6461489656              2050-084X   \n",
      "2  doi:10.5061/dryad.83bk3j9nr  45368        131236              1045-2249   \n",
      "3  doi:10.5061/dryad.95x69p8gr  46633        266227                    NaN   \n",
      "4  doi:10.5061/dryad.6wwpzgmx4  59348  238930232814              0306-4522   \n",
      "\n",
      "                                               title  \\\n",
      "0  Kidney function, kidney function decline, and ...   \n",
      "1  Spatially displaced excitation contributes to ...   \n",
      "2  Data from: Volatile fatty acid and aldehyde ab...   \n",
      "3  A comparison between implicit and explicit sel...   \n",
      "4  Evoking the N400 Event-Related Potential (ERP)...   \n",
      "\n",
      "                                             authors  \\\n",
      "0  [{'firstName': 'Hong', 'lastName': 'Xu', 'emai...   \n",
      "1  [{'firstName': 'Jennifer', 'lastName': 'Ding',...   \n",
      "2  [{'firstName': 'Stephanie', 'lastName': 'Campo...   \n",
      "3  [{'firstName': 'Duan', 'lastName': 'Wei', 'ema...   \n",
      "4  [{'firstName': 'Kathryn', 'lastName': 'Toffolo...   \n",
      "\n",
      "                                            abstract  \\\n",
      "0  Objective: Community-based reports regarding t...   \n",
      "1  Spatially distributed excitation and inhibitio...   \n",
      "2  Animal signals evolve by striking a balance be...   \n",
      "3  Self-monitoring is a metacognitive activity th...   \n",
      "4  During speech comprehension, the ongoing conte...   \n",
      "\n",
      "                                             funders     fieldOfScience  \\\n",
      "0  [{'organization': 'Strategic Research program ...  Clinical medicine   \n",
      "1  [{'organization': 'NIH', 'identifierType': 'cr...                NaN   \n",
      "2  [{'organization': 'National Science Foundation...                NaN   \n",
      "3  [{'organization': 'Funded by Open Research Fun...                NaN   \n",
      "4  [{'organization': 'The Del Monte Institute for...                NaN   \n",
      "\n",
      "                                             methods  ... userId  \\\n",
      "0  SUPPLEMENT MATERIALS    KIDNEY FUNCTION, KIDNE...  ...  61964   \n",
      "1  Dataset has electrophysiology data files and c...  ...  70452   \n",
      "2  Collection of chemical and behavioral data    ...  ...  55226   \n",
      "3  We apply a within-subject design in which both...  ...  56157   \n",
      "4  2.1 Participants Twenty-four neurotypical adul...  ...  64820   \n",
      "\n",
      "                                             license  \\\n",
      "0  https://creativecommons.org/publicdomain/zero/...   \n",
      "1  https://creativecommons.org/publicdomain/zero/...   \n",
      "2  https://creativecommons.org/publicdomain/zero/...   \n",
      "3  https://creativecommons.org/publicdomain/zero/...   \n",
      "4  https://creativecommons.org/publicdomain/zero/...   \n",
      "\n",
      "                                        relatedWorks  \\\n",
      "0                                                NaN   \n",
      "1  [{'relationship': 'primary_article', 'identifi...   \n",
      "2                                                NaN   \n",
      "3                                                NaN   \n",
      "4  [{'relationship': 'software', 'identifierType'...   \n",
      "\n",
      "                                            keywords  \\\n",
      "0                                                NaN   \n",
      "1                                                NaN   \n",
      "2  [chemical signal, Sceloporus, lizards, volatil...   \n",
      "3  [metacognition, self-monitoring, post-decision...   \n",
      "4  [EEG, ERP, N400, auditory presentation, datase...   \n",
      "\n",
      "                                          usageNotes locations  \\\n",
      "0                                                NaN       NaN   \n",
      "1                                                NaN       NaN   \n",
      "2  Species    These data are from 12 lizard speci...       NaN   \n",
      "3  Contributors  Duan Wei (dw6805@126.com)    Sti...       NaN   \n",
      "4  In order to use this dataset appropriately, pl...       NaN   \n",
      "\n",
      "   skipDataciteUpdate skipEmails preserveCurationStatus loosenValidation  \n",
      "0                 NaN        NaN                    NaN              NaN  \n",
      "1                 NaN        NaN                    NaN              NaN  \n",
      "2                 NaN        NaN                    NaN              NaN  \n",
      "3                 NaN        NaN                    NaN              NaN  \n",
      "4                 NaN        NaN                    NaN              NaN  \n",
      "\n",
      "[5 rows x 26 columns]\n"
     ]
    }
   ],
   "source": [
    "print(data_df.head())"
   ]
  },
  {
   "cell_type": "code",
   "execution_count": 31,
   "metadata": {},
   "outputs": [],
   "source": [
    "#save metadata to csv file, making unexisting folders\n",
    "import os\n",
    "if os.path.exists('../data/Dryad') == False:\n",
    "    os.makedirs('../data/Dryad')\n",
    "data_df.to_csv('../data/Dryad/dryad_metadata.csv', index=False)"
   ]
  }
 ],
 "metadata": {
  "kernelspec": {
   "display_name": ".venv",
   "language": "python",
   "name": "python3"
  },
  "language_info": {
   "codemirror_mode": {
    "name": "ipython",
    "version": 3
   },
   "file_extension": ".py",
   "mimetype": "text/x-python",
   "name": "python",
   "nbconvert_exporter": "python",
   "pygments_lexer": "ipython3",
   "version": "3.9.6"
  },
  "orig_nbformat": 4
 },
 "nbformat": 4,
 "nbformat_minor": 2
}
