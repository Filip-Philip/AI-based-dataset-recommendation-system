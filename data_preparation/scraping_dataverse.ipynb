{
 "cells": [
  {
   "cell_type": "code",
   "execution_count": 4,
   "metadata": {},
   "outputs": [
    {
     "name": "stdout",
     "output_type": "stream",
     "text": [
      "200\n"
     ]
    }
   ],
   "source": [
    "#scraping metadata from dataverse repository\n",
    "#https://dataverse.harvard.edu/dataverse/harvard\n",
    "\n",
    "import requests\n",
    "import json\n",
    "import pandas as pd\n",
    "\n",
    "def get_dataverse_metadata():\n",
    "    results = []\n",
    "    url = \"https://dataverse.harvard.edu/api/search?q=Neuroscience&type=dataset&per_page=1000\"\n",
    "    headers = {\"X-Dataverse-key\": \"b7d3b5a0-5b5a-4b9f-8f9f-3c6b6b6b6b6b\"}\n",
    "    response = requests.get(url, headers=headers)\n",
    "    print(response.status_code)\n",
    "    results.append(response.json().get('data'))\n",
    "    return results\n",
    "    \n",
    "data = get_dataverse_metadata()"
   ]
  },
  {
   "cell_type": "code",
   "execution_count": 7,
   "metadata": {},
   "outputs": [],
   "source": [
    "data_df = pd.DataFrame(data[0][\"items\"])\n"
   ]
  },
  {
   "cell_type": "code",
   "execution_count": 15,
   "metadata": {},
   "outputs": [
    {
     "name": "stdout",
     "output_type": "stream",
     "text": [
      "name: Scaling Neuroscience Research with Federated Learning\n",
      "type: dataset\n",
      "url: https://doi.org/10.7910/DVN/2RKAQP\n",
      "global_id: doi:10.7910/DVN/2RKAQP\n",
      "description: The current repository contains the .csv files used to load the UKBB MRI scans from the local filesystem and train the 5-CNN model for the BrainAge prediction task. Although the files do not contain the raw scan data they can be used as a guide to understand how the split of the data into training and testing was carried out for every experiment presented in the original work. In particular, the test dataset used to evaluate the different policies across all the experimental setups was kept the same, while a different training data assignment was followed for each of the three distributions across the learning sites (8 in total): Uniform & IID Uniform & Non-IID Skewed & Non-IID To create each data distribution, we processed all the available training data of the centralized model, and then for every learning site, we defined the amount of data (partition size) that needed to be assigned along with the mean and standard deviation of the scans' age distribution. For completeness, we provide the split_centralized_training.py script that we used to split the centralized training data (centralized_train.csv). In order to replicate the age distribution of every experiment that we conducted, uncomment the lines of the SIZES, MEAN, and STD lists in the python script for each corresponding case (lines 45-58).\n",
      "published_at: 2021-01-26T23:02:15Z\n",
      "publisher: Harvard Dataverse\n",
      "citationHtml: Stripelis, Dimitris, 2021, \"Scaling Neuroscience Research with Federated Learning\", <a href=\"https://doi.org/10.7910/DVN/2RKAQP\" target=\"_blank\">https://doi.org/10.7910/DVN/2RKAQP</a>, Harvard Dataverse, V1, UNF:6:soNs6cRdQ0JNrsQkqEw5hQ== [fileUNF]\n",
      "identifier_of_dataverse: harvard\n",
      "name_of_dataverse: Harvard Dataverse\n",
      "citation: Stripelis, Dimitris, 2021, \"Scaling Neuroscience Research with Federated Learning\", https://doi.org/10.7910/DVN/2RKAQP, Harvard Dataverse, V1, UNF:6:soNs6cRdQ0JNrsQkqEw5hQ== [fileUNF]\n",
      "storageIdentifier: s3://10.7910/DVN/2RKAQP\n",
      "subjects: ['Computer and Information Science']\n",
      "fileCount: 3.0\n",
      "versionId: 229292.0\n",
      "versionState: RELEASED\n",
      "majorVersion: 1.0\n",
      "minorVersion: 1.0\n",
      "createdAt: 2021-01-26T22:07:06Z\n",
      "updatedAt: 2021-02-07T19:06:50Z\n",
      "contacts: [{'name': 'Stripelis, Dimitris', 'affiliation': 'University of Southern California'}]\n",
      "publications: [{}]\n",
      "authors: ['Stripelis, Dimitris']\n",
      "keywords: nan\n",
      "producers: nan\n",
      "geographicCoverage: nan\n",
      "relatedMaterial: nan\n",
      "0                     [Computer and Information Science]\n",
      "1      [Medicine, Health and Life Sciences, Social Sc...\n",
      "2                   [Medicine, Health and Life Sciences]\n",
      "3                   [Medicine, Health and Life Sciences]\n",
      "4      [Engineering, Medicine, Health and Life Scienc...\n",
      "                             ...                        \n",
      "265                                    [Social Sciences]\n",
      "266                                    [Social Sciences]\n",
      "267                                    [Social Sciences]\n",
      "268                                    [Social Sciences]\n",
      "269    [Medicine, Health and Life Sciences, Social Sc...\n",
      "Name: subjects, Length: 270, dtype: object\n"
     ]
    }
   ],
   "source": [
    "#print(data_df.head())\n",
    "#print(data_df.shape)\n",
    "for i in data_df.columns:\n",
    "    print(\"{}: {}\".format(i, data_df[i][0]))\n",
    "    \n",
    "print(data_df[\"subjects\"])"
   ]
  },
  {
   "cell_type": "code",
   "execution_count": 17,
   "metadata": {},
   "outputs": [],
   "source": [
    "#save metadata to csv file, making unexisting folders\n",
    "import os\n",
    "if not os.path.exists(\"../data/Dataverse\"):\n",
    "    os.makedirs(\"../data/Dataverse\")\n",
    "data_df.to_csv(\"../data/Dataverse/dataverse_metadata.csv\", index=False)"
   ]
  }
 ],
 "metadata": {
  "kernelspec": {
   "display_name": ".venv",
   "language": "python",
   "name": "python3"
  },
  "language_info": {
   "codemirror_mode": {
    "name": "ipython",
    "version": 3
   },
   "file_extension": ".py",
   "mimetype": "text/x-python",
   "name": "python",
   "nbconvert_exporter": "python",
   "pygments_lexer": "ipython3",
   "version": "3.9.6"
  },
  "orig_nbformat": 4
 },
 "nbformat": 4,
 "nbformat_minor": 2
}
